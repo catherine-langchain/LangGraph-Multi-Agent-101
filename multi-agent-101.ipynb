{
 "cells": [
  {
   "cell_type": "markdown",
   "metadata": {},
   "source": [
    "# LangGraph 101: Building Multi-Agent"
   ]
  },
  {
   "cell_type": "markdown",
   "metadata": {},
   "source": [
    "In this notebook, we're going to walk through setting up a **multi-agent workflow** in LangGraph. We will start from a simple ReAct agent and add additional steps into the workflow, simulating a realistic customer support example, showcasing human-in-the-loop, long term memory, and the LangGraph pre-built library. \n",
    "\n",
    "The agent utilizes the [Chinook database](https://www.sqlitetutorial.net/sqlite-sample-database/), and is able to handle customer inqueries related to invoice and music. \n",
    "\n",
    "![Arch](images/architecture.png) \n",
    "\n",
    "\n",
    "\n",
    "For a deeper dive into LangGraph primitives and learning our framework, check out our [LangChain Academy](https://academy.langchain.com/courses/intro-to-langgraph)!\n"
   ]
  },
  {
   "cell_type": "markdown",
   "metadata": {},
   "source": [
    "## Step 0. Setting Up"
   ]
  },
  {
   "cell_type": "markdown",
   "metadata": {},
   "source": [
    "#### Loading environment variables"
   ]
  },
  {
   "cell_type": "markdown",
   "metadata": {},
   "source": [
    "To start, let's load our environment variables from our .env file. Make sure all of the keys necessary in .env.example are included!\n",
    "We use OpenAI in this example, but feel free to swap ChatOpenAI with other model providers that you prefer. "
   ]
  },
  {
   "cell_type": "code",
   "execution_count": 1,
   "metadata": {},
   "outputs": [],
   "source": [
    "from dotenv import load_dotenv\n",
    "from langchain_openai import ChatOpenAI\n",
    "\n",
    "load_dotenv(dotenv_path=\".env\", override=True)\n",
    "model = ChatOpenAI(model=\"o3-mini\")"
   ]
  },
  {
   "cell_type": "markdown",
   "metadata": {},
   "source": [
    "#### Loading sample customer data\n",
    "\n",
    "The agent utilizes the [Chinook database](https://www.sqlitetutorial.net/sqlite-sample-database/), which contains sample information on customer information, purchase history, and music catalog. \n",
    "\n",
    "We also initialize vectorstores for all the artists in the store, which allows to fetch based on similarity to an artist."
   ]
  },
  {
   "cell_type": "code",
   "execution_count": 2,
   "metadata": {},
   "outputs": [],
   "source": [
    "from langchain_community.utilities import SQLDatabase\n",
    "from langchain_community.vectorstores import SKLearnVectorStore\n",
    "from langchain_openai import OpenAIEmbeddings\n",
    "\n",
    "db = SQLDatabase.from_uri(\"sqlite:///chinook.db\")\n",
    "\n",
    "artists = db._execute(\"select * from Artist\")\n",
    "songs = db._execute(\"select * from Track\")\n",
    "\n",
    "artist_retriever = SKLearnVectorStore.from_texts(\n",
    "    [a['Name'] for a in artists],\n",
    "    OpenAIEmbeddings(), \n",
    "    metadatas=artists\n",
    ").as_retriever()\n",
    "\n",
    "song_retriever = SKLearnVectorStore.from_texts(\n",
    "    [a['Name'] for a in songs],\n",
    "    OpenAIEmbeddings(), \n",
    "    metadatas=songs\n",
    ").as_retriever()"
   ]
  },
  {
   "cell_type": "markdown",
   "metadata": {},
   "source": [
    "#### Setting up short-term and long-term memory "
   ]
  },
  {
   "cell_type": "markdown",
   "metadata": {},
   "source": [
    "We will also initialize a checkpointer for **short-term memory**, maintaining context within a single thread. \n",
    "\n",
    "**Long term memory** lets you store and recall information between conversations. Today, we will utilize our long term memory store to store user preferences for personalization. \n",
    "\n"
   ]
  },
  {
   "cell_type": "code",
   "execution_count": 3,
   "metadata": {},
   "outputs": [],
   "source": [
    "from langgraph.checkpoint.memory import MemorySaver\n",
    "from langgraph.store.memory import InMemoryStore\n",
    "\n",
    "# Initializing long term memory store \n",
    "in_memory_store = InMemoryStore()\n",
    "\n",
    "# Initializing checkpoint for thread-level memory \n",
    "checkpointer = MemorySaver()"
   ]
  },
  {
   "cell_type": "markdown",
   "metadata": {},
   "source": [
    "## Step 1. Building ReAct Sub-Agents"
   ]
  },
  {
   "cell_type": "markdown",
   "metadata": {},
   "source": [
    "### Step 1.1 Building a ReAct Agent from Scratch"
   ]
  },
  {
   "cell_type": "markdown",
   "metadata": {},
   "source": [
    "Now that we are set up, we are ready to build out our **first subagent**. This is a simple ReAct agent that fetches information related to music store catalog, utilizing a set of tools to generate its response. \n",
    "\n",
    "![react_1](images/music_subagent.png)"
   ]
  },
  {
   "cell_type": "markdown",
   "metadata": {},
   "source": [
    "#### State"
   ]
  },
  {
   "cell_type": "markdown",
   "metadata": {},
   "source": [
    "How does information flow through the steps?  \n",
    "\n",
    "State is the first LangGraph concept we'll cover. **State can be thought of as the memory of the agent - its a shared data structure that’s passed on between the nodes of your graph**, representing the current snapshot of your application. \n",
    "\n",
    "For this our customer support agent our state will track the following elements: \n",
    "1. The customer ID\n",
    "2. Conversation history\n",
    "3. Memory from long term memory store\n",
    "4. Remaining steps, which tracks # steps until it hits recursion limit"
   ]
  },
  {
   "cell_type": "code",
   "execution_count": 4,
   "metadata": {},
   "outputs": [],
   "source": [
    "from typing_extensions import TypedDict\n",
    "from typing import Annotated, List, Tuple, Literal, Union\n",
    "from langgraph.graph.message import AnyMessage, add_messages\n",
    "from langgraph.managed.is_last_step import RemainingSteps\n",
    "\n",
    "import operator\n",
    "\n",
    "class State(TypedDict):\n",
    "    customer_id: str\n",
    "    messages: Annotated[list[AnyMessage], add_messages]\n",
    "    loaded_memory: str\n",
    "    remaining_steps: RemainingSteps "
   ]
  },
  {
   "cell_type": "markdown",
   "metadata": {},
   "source": [
    "#### Tools\n",
    "Let's define a list of **tools** our agent will have access to. Tools are functionts that can act as extension of the LLM's capabilities. In our case, we will create several tools that interacts with the Chinook database regarding invoices. \n",
    "\n",
    "We can create tools using the @tool decorator to create a tool"
   ]
  },
  {
   "cell_type": "code",
   "execution_count": 5,
   "metadata": {},
   "outputs": [],
   "source": [
    "from langchain_core.tools import tool\n",
    "import ast\n",
    "\n",
    "@tool\n",
    "def get_albums_by_artist(artist):\n",
    "    \"\"\"Get albums by an artist (or similar artists).\"\"\"\n",
    "    docs = artist_retriever.invoke(artist)\n",
    "    artist_ids = \", \".join([str(d.metadata['ArtistId']) for d in docs])\n",
    "    return db.run(f\"SELECT Title, Name FROM Album LEFT JOIN Artist ON Album.ArtistId = Artist.ArtistId WHERE Album.ArtistId in ({artist_ids});\", include_columns=True)\n",
    "\n",
    "@tool\n",
    "def get_tracks_by_artist(artist):\n",
    "    \"\"\"Get songs by an artist (or similar artists).\"\"\"\n",
    "    docs = artist_retriever.invoke(artist)\n",
    "    artist_ids = \", \".join([str(d.metadata['ArtistId']) for d in docs])\n",
    "    return db.run(f\"SELECT Track.Name as SongName, Artist.Name as ArtistName FROM Album LEFT JOIN Artist ON Album.ArtistId = Artist.ArtistId LEFT JOIN Track ON Track.AlbumId = Album.AlbumId WHERE Album.ArtistId in ({artist_ids});\", include_columns=True)\n",
    "\n",
    "@tool\n",
    "def get_songs_by_genre(genre: str):\n",
    "    \"\"\"\n",
    "    Fetch songs from the database that match a specific genre.\n",
    "    \n",
    "    Args:\n",
    "        genre (str): The genre of the songs to fetch.\n",
    "    \n",
    "    Returns:\n",
    "        list[dict]: A list of songs that match the specified genre.\n",
    "    \"\"\"\n",
    "    genre_id_query = f\"SELECT GenreId FROM Genre WHERE Name LIKE '%{genre}%'\"\n",
    "    genre_ids = db.run(genre_id_query)\n",
    "    if not genre_ids:\n",
    "        return f\"No songs found for the genre: {genre}\"\n",
    "    genre_ids = ast.literal_eval(genre_ids)\n",
    "    genre_id_list = \", \".join(str(gid[0]) for gid in genre_ids)\n",
    "\n",
    "    songs_query = f\"\"\"\n",
    "        SELECT Track.Name as SongName, Artist.Name as ArtistName\n",
    "        FROM Track\n",
    "        LEFT JOIN Album ON Track.AlbumId = Album.AlbumId\n",
    "        LEFT JOIN Artist ON Album.ArtistId = Artist.ArtistId\n",
    "        WHERE Track.GenreId IN ({genre_id_list})\n",
    "        GROUP BY Artist.Name\n",
    "        LIMIT 8;\n",
    "    \"\"\"\n",
    "    songs = db.run(songs_query, include_columns=True)\n",
    "    if not songs:\n",
    "        return f\"No songs found for the genre: {genre}\"\n",
    "    formatted_songs = ast.literal_eval(songs)\n",
    "    return [\n",
    "        {\"Song\": song[\"SongName\"], \"Artist\": song[\"ArtistName\"]}\n",
    "        for song in formatted_songs\n",
    "    ]\n",
    "\n",
    "@tool\n",
    "def check_for_songs(song_title):\n",
    "    \"\"\"Check if a song exists by its name.\"\"\"\n",
    "    return song_retriever.get_relevant_documents(song_title)\n",
    "\n",
    "music_tools = [get_albums_by_artist, get_tracks_by_artist, get_songs_by_genre, check_for_songs]\n",
    "llm_with_music_tools = model.bind_tools(music_tools)"
   ]
  },
  {
   "cell_type": "markdown",
   "metadata": {},
   "source": [
    "#### Nodes"
   ]
  },
  {
   "cell_type": "markdown",
   "metadata": {},
   "source": [
    "Now that we have a list of tools, we are ready to build nodes that interact with them. \n",
    "\n",
    "Nodes are just python (or JS/TS!) functions. Nodes take in your graph's State as input, execute some logic, and return a new State. \n",
    "\n",
    "Here, we're just going to set up 2 nodes for our ReAct agent:\n",
    "1. **music_assistant**: Reasoning node that decides which function to invoke \n",
    "2. **music_tools**: Node that contains all the available tools and executes the function\n",
    "\n",
    "LangGraph has a pre-built ToolNode that we can utilize to create a node for our tools. "
   ]
  },
  {
   "cell_type": "code",
   "execution_count": 6,
   "metadata": {},
   "outputs": [],
   "source": [
    "from langgraph.prebuilt import ToolNode\n",
    "# Node\n",
    "music_tool_node = ToolNode(music_tools)"
   ]
  },
  {
   "cell_type": "code",
   "execution_count": 7,
   "metadata": {},
   "outputs": [],
   "source": [
    "from langchain_core.messages import ToolMessage, SystemMessage, HumanMessage\n",
    "from langchain_core.runnables import RunnableConfig\n",
    "\n",
    "# Node \n",
    "def music_assistant(state: State, config: RunnableConfig): \n",
    "\n",
    "    # Fetching long term memory. \n",
    "    memory = \"None\" \n",
    "    if \"loaded_memory\" in state: \n",
    "        memory = state[\"loaded_memory\"]\n",
    "\n",
    "    # Intructions for our agent  \n",
    "    music_assistant_prompt = f\"\"\"\n",
    "    You are a member of the assistant team, your role specifically is to focused on helping customers discover and learn about music in our digital catalog. \n",
    "    If you are unable to find playlists, songs, or albums associated with an artist, it is okay. \n",
    "    Just inform the customer that the catalog does not have any playlists, songs, or albums associated with that artist.\n",
    "    You also have context on any saved user preferences, helping you to tailor your response. \n",
    "    \n",
    "    CORE RESPONSIBILITIES:\n",
    "    - Search and provide accurate information about songs, albums, artists, and playlists\n",
    "    - Offer relevant recommendations based on customer interests\n",
    "    - Handle music-related queries with attention to detail\n",
    "    - Help customers discover new music they might enjoy\n",
    "    - You are routed only when there are questions related to music catalog; ignore other questions. \n",
    "    \n",
    "    SEARCH GUIDELINES:\n",
    "    1. Always perform thorough searches before concluding something is unavailable\n",
    "    2. If exact matches aren't found, try:\n",
    "       - Checking for alternative spellings\n",
    "       - Looking for similar artist names\n",
    "       - Searching by partial matches\n",
    "       - Checking different versions/remixes\n",
    "    3. When providing song lists:\n",
    "       - Include the artist name with each song\n",
    "       - Mention the album when relevant\n",
    "       - Note if it's part of any playlists\n",
    "       - Indicate if there are multiple versions\n",
    "    \n",
    "    Additional context is provided below: \n",
    "\n",
    "    Prior saved user preferences: {memory}\n",
    "    \n",
    "    Message history is also attached.  \n",
    "    \"\"\"\n",
    "\n",
    "    # Invoke the model\n",
    "    response = llm_with_music_tools.invoke([SystemMessage(music_assistant_prompt)] + state[\"messages\"])\n",
    "    \n",
    "    # Update the state\n",
    "    return {\"messages\": [response]}"
   ]
  },
  {
   "cell_type": "markdown",
   "metadata": {},
   "source": [
    "#### Edges"
   ]
  },
  {
   "cell_type": "markdown",
   "metadata": {},
   "source": [
    "Now, we need to define a control flow that connects between our defined nodes, and that's where the concept of edges come in.\n",
    "\n",
    "**Edges are connections between nodes. They define the flow of the graph.**\n",
    "* **Normal edges** are deterministic and always go from one node to its defined target\n",
    "* **Conditional edges** are used to dynamically route between nodes, implemented as functions that return the next node to visit based upon some logic. \n",
    "\n",
    "In this case, we want a **conditional edge** from our subagent that determines whether to: \n",
    "- Invoke tools, or,\n",
    "- Route to the end if user query has been finished "
   ]
  },
  {
   "cell_type": "code",
   "execution_count": 8,
   "metadata": {},
   "outputs": [],
   "source": [
    "# Conditional edge that determines whether to continue or not\n",
    "def should_continue(state: State, config: RunnableConfig):\n",
    "    messages = state[\"messages\"]\n",
    "    last_message = messages[-1]\n",
    "    \n",
    "    # If there is no function call, then we finish\n",
    "    if not last_message.tool_calls:\n",
    "        return \"end\"\n",
    "    # Otherwise if there is, we continue\n",
    "    else:\n",
    "        return \"continue\""
   ]
  },
  {
   "cell_type": "markdown",
   "metadata": {},
   "source": [
    "#### Compile Graph!\n",
    "\n",
    "Now that we've defined our State and Nodes, let's put it all together and construct our react agent!"
   ]
  },
  {
   "cell_type": "code",
   "execution_count": 9,
   "metadata": {},
   "outputs": [],
   "source": [
    "from langgraph.graph import StateGraph, START, END\n",
    "from IPython.display import Image, display\n",
    "\n",
    "music_workflow = StateGraph(State)\n",
    "\n",
    "# Add nodes \n",
    "music_workflow.add_node(\"music_assistant\", music_assistant)\n",
    "music_workflow.add_node(\"music_tool_node\", music_tool_node)\n",
    "\n",
    "\n",
    "# Add edges \n",
    "# First, we define the start node. The query will always route to the subagent node first. \n",
    "music_workflow.add_edge(START, \"music_assistant\")\n",
    "\n",
    "# We now add a conditional edge\n",
    "music_workflow.add_conditional_edges(\n",
    "    \"music_assistant\",\n",
    "    # Function representing our conditional edge\n",
    "    should_continue,\n",
    "    {\n",
    "        # If `tools`, then we call the tool node.\n",
    "        \"continue\": \"music_tool_node\",\n",
    "        # Otherwise we finish.\n",
    "        \"end\": END,\n",
    "    },\n",
    ")\n",
    "\n",
    "music_workflow.add_edge(\"music_tool_node\", \"music_assistant\")\n",
    "\n",
    "music_catalog_subagent = music_workflow.compile(name=\"music_catalog_subagent\", checkpointer=checkpointer, store = in_memory_store)"
   ]
  },
  {
   "cell_type": "code",
   "execution_count": 10,
   "metadata": {},
   "outputs": [
    {
     "data": {
      "image/png": "[encoded data removed]",
      "text/plain": [
       "<IPython.core.display.Image object>"
      ]
     },
     "metadata": {},
     "output_type": "display_data"
    }
   ],
   "source": [
    "display(Image(music_catalog_subagent.get_graph().draw_mermaid_png()))"
   ]
  },
  {
   "cell_type": "markdown",
   "metadata": {},
   "source": [
    "#### Testing"
   ]
  },
  {
   "cell_type": "markdown",
   "metadata": {},
   "source": [
    "Let's see how it works!"
   ]
  },
  {
   "cell_type": "code",
   "execution_count": 11,
   "metadata": {
    "scrolled": true
   },
   "outputs": [
    {
     "name": "stdout",
     "output_type": "stream",
     "text": [
      "================================\u001b[1m Human Message \u001b[0m=================================\n",
      "\n",
      "I like the Rolling Stones. What songs do you recommend by them or by other artists that I might like?\n",
      "==================================\u001b[1m Ai Message \u001b[0m==================================\n",
      "Tool Calls:\n",
      "  get_tracks_by_artist (call_SssNXCalBa5ivSH7ftrI6zVt)\n",
      " Call ID: call_SssNXCalBa5ivSH7ftrI6zVt\n",
      "  Args:\n",
      "    artist: The Rolling Stones\n",
      "=================================\u001b[1m Tool Message \u001b[0m=================================\n",
      "Name: get_tracks_by_artist\n",
      "\n",
      "[{'SongName': 'You Shook Me', 'ArtistName': 'Led Zeppelin'}, {'SongName': \"I Can't Quit You Baby\", 'ArtistName': 'Led Zeppelin'}, {'SongName': 'Communication Breakdown', 'ArtistName': 'Led Zeppelin'}, {'SongName': 'Dazed and Confused', 'ArtistName': 'Led Zeppelin'}, {'SongName': 'The Girl I Love She Got Long Black Wavy Hair', 'ArtistName': 'Led Zeppelin'}, {'SongName': 'What is and Should Never Be', 'ArtistName': 'Led Zeppelin'}, {'SongName': 'Communication Breakdown(2)', 'ArtistName': 'Led Zeppelin'}, {'SongName': 'Travelling Riverside Blues', 'ArtistName': 'Led Zeppelin'}, {'SongName': 'Whole Lotta Love', 'ArtistName': 'Led Zeppelin'}, {'SongName': \"Somethin' Else\", 'ArtistName': 'Led Zeppelin'}, {'SongName': 'Communication Breakdown(3)', 'ArtistName': 'Led Zeppelin'}, {'SongName': \"I Can't Quit You Baby(2)\", 'ArtistName': 'Led Zeppelin'}, {'SongName': 'You Shook Me(2)', 'ArtistName': 'Led Zeppelin'}, {'SongName': 'How Many More Times', 'ArtistName': 'Led Zeppelin'}, {'SongName': 'Custard Pie', 'ArtistName': 'Led Zeppelin'}, {'SongName': 'The Rover', 'ArtistName': 'Led Zeppelin'}, {'SongName': 'In My Time Of Dying', 'ArtistName': 'Led Zeppelin'}, {'SongName': 'Houses Of The Holy', 'ArtistName': 'Led Zeppelin'}, {'SongName': 'Trampled Under Foot', 'ArtistName': 'Led Zeppelin'}, {'SongName': 'Kashmir', 'ArtistName': 'Led Zeppelin'}, {'SongName': 'Immigrant Song', 'ArtistName': 'Led Zeppelin'}, {'SongName': 'Heartbreaker', 'ArtistName': 'Led Zeppelin'}, {'SongName': \"Since I've Been Loving You\", 'ArtistName': 'Led Zeppelin'}, {'SongName': 'Black Dog', 'ArtistName': 'Led Zeppelin'}, {'SongName': 'Dazed And Confused', 'ArtistName': 'Led Zeppelin'}, {'SongName': 'Stairway To Heaven', 'ArtistName': 'Led Zeppelin'}, {'SongName': 'Going To California', 'ArtistName': 'Led Zeppelin'}, {'SongName': \"That's The Way\", 'ArtistName': 'Led Zeppelin'}, {'SongName': 'Whole Lotta Love (Medley)', 'ArtistName': 'Led Zeppelin'}, {'SongName': 'Thank You', 'ArtistName': 'Led Zeppelin'}, {'SongName': \"We're Gonna Groove\", 'ArtistName': 'Led Zeppelin'}, {'SongName': 'Poor Tom', 'ArtistName': 'Led Zeppelin'}, {'SongName': \"I Can't Quit You Baby\", 'ArtistName': 'Led Zeppelin'}, {'SongName': \"Walter's Walk\", 'ArtistName': 'Led Zeppelin'}, {'SongName': 'Ozone Baby', 'ArtistName': 'Led Zeppelin'}, {'SongName': 'Darlene', 'ArtistName': 'Led Zeppelin'}, {'SongName': \"Bonzo's Montreux\", 'ArtistName': 'Led Zeppelin'}, {'SongName': 'Wearing And Tearing', 'ArtistName': 'Led Zeppelin'}, {'SongName': 'The Song Remains The Same', 'ArtistName': 'Led Zeppelin'}, {'SongName': 'The Rain Song', 'ArtistName': 'Led Zeppelin'}, {'SongName': 'Over The Hills And Far Away', 'ArtistName': 'Led Zeppelin'}, {'SongName': 'The Crunge', 'ArtistName': 'Led Zeppelin'}, {'SongName': 'Dancing Days', 'ArtistName': 'Led Zeppelin'}, {'SongName': \"D'Yer Mak'er\", 'ArtistName': 'Led Zeppelin'}, {'SongName': 'No Quarter', 'ArtistName': 'Led Zeppelin'}, {'SongName': 'The Ocean', 'ArtistName': 'Led Zeppelin'}, {'SongName': 'In The Evening', 'ArtistName': 'Led Zeppelin'}, {'SongName': 'South Bound Saurez', 'ArtistName': 'Led Zeppelin'}, {'SongName': 'Fool In The Rain', 'ArtistName': 'Led Zeppelin'}, {'SongName': 'Hot Dog', 'ArtistName': 'Led Zeppelin'}, {'SongName': 'Carouselambra', 'ArtistName': 'Led Zeppelin'}, {'SongName': 'All My Love', 'ArtistName': 'Led Zeppelin'}, {'SongName': \"I'm Gonna Crawl\", 'ArtistName': 'Led Zeppelin'}, {'SongName': 'Black Dog', 'ArtistName': 'Led Zeppelin'}, {'SongName': 'Rock & Roll', 'ArtistName': 'Led Zeppelin'}, {'SongName': 'The Battle Of Evermore', 'ArtistName': 'Led Zeppelin'}, {'SongName': 'Stairway To Heaven', 'ArtistName': 'Led Zeppelin'}, {'SongName': 'Misty Mountain Hop', 'ArtistName': 'Led Zeppelin'}, {'SongName': 'Four Sticks', 'ArtistName': 'Led Zeppelin'}, {'SongName': 'Going To California', 'ArtistName': 'Led Zeppelin'}, {'SongName': 'When The Levee Breaks', 'ArtistName': 'Led Zeppelin'}, {'SongName': 'Good Times Bad Times', 'ArtistName': 'Led Zeppelin'}, {'SongName': \"Babe I'm Gonna Leave You\", 'ArtistName': 'Led Zeppelin'}, {'SongName': 'You Shook Me', 'ArtistName': 'Led Zeppelin'}, {'SongName': 'Dazed and Confused', 'ArtistName': 'Led Zeppelin'}, {'SongName': 'Your Time Is Gonna Come', 'ArtistName': 'Led Zeppelin'}, {'SongName': 'Black Mountain Side', 'ArtistName': 'Led Zeppelin'}, {'SongName': 'Communication Breakdown', 'ArtistName': 'Led Zeppelin'}, {'SongName': \"I Can't Quit You Baby\", 'ArtistName': 'Led Zeppelin'}, {'SongName': 'How Many More Times', 'ArtistName': 'Led Zeppelin'}, {'SongName': 'Whole Lotta Love', 'ArtistName': 'Led Zeppelin'}, {'SongName': 'What Is And What Should Never Be', 'ArtistName': 'Led Zeppelin'}, {'SongName': 'The Lemon Song', 'ArtistName': 'Led Zeppelin'}, {'SongName': 'Thank You', 'ArtistName': 'Led Zeppelin'}, {'SongName': 'Heartbreaker', 'ArtistName': 'Led Zeppelin'}, {'SongName': \"Living Loving Maid (She's Just A Woman)\", 'ArtistName': 'Led Zeppelin'}, {'SongName': 'Ramble On', 'ArtistName': 'Led Zeppelin'}, {'SongName': 'Moby Dick', 'ArtistName': 'Led Zeppelin'}, {'SongName': 'Bring It On Home', 'ArtistName': 'Led Zeppelin'}, {'SongName': 'Immigrant Song', 'ArtistName': 'Led Zeppelin'}, {'SongName': 'Friends', 'ArtistName': 'Led Zeppelin'}, {'SongName': 'Celebration Day', 'ArtistName': 'Led Zeppelin'}, {'SongName': \"Since I've Been Loving You\", 'ArtistName': 'Led Zeppelin'}, {'SongName': 'Out On The Tiles', 'ArtistName': 'Led Zeppelin'}, {'SongName': 'Gallows Pole', 'ArtistName': 'Led Zeppelin'}, {'SongName': 'Tangerine', 'ArtistName': 'Led Zeppelin'}, {'SongName': \"That's The Way\", 'ArtistName': 'Led Zeppelin'}, {'SongName': 'Bron-Y-Aur Stomp', 'ArtistName': 'Led Zeppelin'}, {'SongName': 'Hats Off To (Roy) Harper', 'ArtistName': 'Led Zeppelin'}, {'SongName': 'In The Light', 'ArtistName': 'Led Zeppelin'}, {'SongName': 'Bron-Yr-Aur', 'ArtistName': 'Led Zeppelin'}, {'SongName': 'Down By The Seaside', 'ArtistName': 'Led Zeppelin'}, {'SongName': 'Ten Years Gone', 'ArtistName': 'Led Zeppelin'}, {'SongName': 'Night Flight', 'ArtistName': 'Led Zeppelin'}, {'SongName': 'The Wanton Song', 'ArtistName': 'Led Zeppelin'}, {'SongName': 'Boogie With Stu', 'ArtistName': 'Led Zeppelin'}, {'SongName': 'Black Country Woman', 'ArtistName': 'Led Zeppelin'}, {'SongName': 'Sick Again', 'ArtistName': 'Led Zeppelin'}, {'SongName': 'Achilles Last Stand', 'ArtistName': 'Led Zeppelin'}, {'SongName': 'For Your Life', 'ArtistName': 'Led Zeppelin'}, {'SongName': 'Royal Orleans', 'ArtistName': 'Led Zeppelin'}, {'SongName': \"Nobody's Fault But Mine\", 'ArtistName': 'Led Zeppelin'}, {'SongName': 'Candy Store Rock', 'ArtistName': 'Led Zeppelin'}, {'SongName': 'Hots On For Nowhere', 'ArtistName': 'Led Zeppelin'}, {'SongName': 'Tea For One', 'ArtistName': 'Led Zeppelin'}, {'SongName': 'Rock & Roll', 'ArtistName': 'Led Zeppelin'}, {'SongName': 'Celebration Day', 'ArtistName': 'Led Zeppelin'}, {'SongName': 'The Song Remains The Same', 'ArtistName': 'Led Zeppelin'}, {'SongName': 'Rain Song', 'ArtistName': 'Led Zeppelin'}, {'SongName': 'Dazed And Confused', 'ArtistName': 'Led Zeppelin'}, {'SongName': 'No Quarter', 'ArtistName': 'Led Zeppelin'}, {'SongName': 'Stairway To Heaven', 'ArtistName': 'Led Zeppelin'}, {'SongName': 'Moby Dick', 'ArtistName': 'Led Zeppelin'}, {'SongName': 'Whole Lotta Love', 'ArtistName': 'Led Zeppelin'}, {'SongName': 'Speak To Me/Breathe', 'ArtistName': 'Pink Floyd'}, {'SongName': 'On The Run', 'ArtistName': 'Pink Floyd'}, {'SongName': 'Time', 'ArtistName': 'Pink Floyd'}, {'SongName': 'The Great Gig In The Sky', 'ArtistName': 'Pink Floyd'}, {'SongName': 'Money', 'ArtistName': 'Pink Floyd'}, {'SongName': 'Us And Them', 'ArtistName': 'Pink Floyd'}, {'SongName': 'Any Colour You Like', 'ArtistName': 'Pink Floyd'}, {'SongName': 'Brain Damage', 'ArtistName': 'Pink Floyd'}, {'SongName': 'Eclipse', 'ArtistName': 'Pink Floyd'}, {'SongName': 'Midnight From The Inside Out', 'ArtistName': 'The Black Crowes'}, {'SongName': 'Sting Me', 'ArtistName': 'The Black Crowes'}, {'SongName': 'Thick & Thin', 'ArtistName': 'The Black Crowes'}, {'SongName': 'Greasy Grass River', 'ArtistName': 'The Black Crowes'}, {'SongName': 'Sometimes Salvation', 'ArtistName': 'The Black Crowes'}, {'SongName': 'Cursed Diamonds', 'ArtistName': 'The Black Crowes'}, {'SongName': 'Miracle To Me', 'ArtistName': 'The Black Crowes'}, {'SongName': 'Wiser Time', 'ArtistName': 'The Black Crowes'}, {'SongName': 'Girl From A Pawnshop', 'ArtistName': 'The Black Crowes'}, {'SongName': 'Cosmic Fiend', 'ArtistName': 'The Black Crowes'}, {'SongName': 'Black Moon Creeping', 'ArtistName': 'The Black Crowes'}, {'SongName': 'High Head Blues', 'ArtistName': 'The Black Crowes'}, {'SongName': 'Title Song', 'ArtistName': 'The Black Crowes'}, {'SongName': 'She Talks To Angels', 'ArtistName': 'The Black Crowes'}, {'SongName': 'Twice As Hard', 'ArtistName': 'The Black Crowes'}, {'SongName': \"Lickin'\", 'ArtistName': 'The Black Crowes'}, {'SongName': 'Soul Singing', 'ArtistName': 'The Black Crowes'}, {'SongName': 'Hard To Handle', 'ArtistName': 'The Black Crowes'}, {'SongName': 'Remedy', 'ArtistName': 'The Black Crowes'}, {'SongName': 'Time Is On My Side', 'ArtistName': 'The Rolling Stones'}, {'SongName': 'Heart Of Stone', 'ArtistName': 'The Rolling Stones'}, {'SongName': 'Play With Fire', 'ArtistName': 'The Rolling Stones'}, {'SongName': 'Satisfaction', 'ArtistName': 'The Rolling Stones'}, {'SongName': 'As Tears Go By', 'ArtistName': 'The Rolling Stones'}, {'SongName': 'Get Off Of My Cloud', 'ArtistName': 'The Rolling Stones'}, {'SongName': \"Mother's Little Helper\", 'ArtistName': 'The Rolling Stones'}, {'SongName': '19th Nervous Breakdown', 'ArtistName': 'The Rolling Stones'}, {'SongName': 'Paint It Black', 'ArtistName': 'The Rolling Stones'}, {'SongName': 'Under My Thumb', 'ArtistName': 'The Rolling Stones'}, {'SongName': 'Ruby Tuesday', 'ArtistName': 'The Rolling Stones'}, {'SongName': \"Let's Spend The Night Together\", 'ArtistName': 'The Rolling Stones'}, {'SongName': 'Intro', 'ArtistName': 'The Rolling Stones'}, {'SongName': 'You Got Me Rocking', 'ArtistName': 'The Rolling Stones'}, {'SongName': 'Gimmie Shelters', 'ArtistName': 'The Rolling Stones'}, {'SongName': 'Flip The Switch', 'ArtistName': 'The Rolling Stones'}, {'SongName': 'Memory Motel', 'ArtistName': 'The Rolling Stones'}, {'SongName': 'Corinna', 'ArtistName': 'The Rolling Stones'}, {'SongName': 'Saint Of Me', 'ArtistName': 'The Rolling Stones'}, {'SongName': 'Wainting On A Friend', 'ArtistName': 'The Rolling Stones'}, {'SongName': 'Sister Morphine', 'ArtistName': 'The Rolling Stones'}, {'SongName': 'Live With Me', 'ArtistName': 'The Rolling Stones'}, {'SongName': 'Respectable', 'ArtistName': 'The Rolling Stones'}, {'SongName': 'Thief In The Night', 'ArtistName': 'The Rolling Stones'}, {'SongName': 'The Last Time', 'ArtistName': 'The Rolling Stones'}, {'SongName': 'Out Of Control', 'ArtistName': 'The Rolling Stones'}, {'SongName': 'Love Is Strong', 'ArtistName': 'The Rolling Stones'}, {'SongName': 'You Got Me Rocking', 'ArtistName': 'The Rolling Stones'}, {'SongName': 'Sparks Will Fly', 'ArtistName': 'The Rolling Stones'}, {'SongName': 'The Worst', 'ArtistName': 'The Rolling Stones'}, {'SongName': 'New Faces', 'ArtistName': 'The Rolling Stones'}, {'SongName': 'Moon Is Up', 'ArtistName': 'The Rolling Stones'}, {'SongName': 'Out Of Tears', 'ArtistName': 'The Rolling Stones'}, {'SongName': 'I Go Wild', 'ArtistName': 'The Rolling Stones'}, {'SongName': 'Brand New Car', 'ArtistName': 'The Rolling Stones'}, {'SongName': 'Sweethearts Together', 'ArtistName': 'The Rolling Stones'}, {'SongName': 'Suck On The Jugular', 'ArtistName': 'The Rolling Stones'}, {'SongName': 'Blinded By Rainbows', 'ArtistName': 'The Rolling Stones'}, {'SongName': 'Baby Break It Down', 'ArtistName': 'The Rolling Stones'}, {'SongName': 'Thru And Thru', 'ArtistName': 'The Rolling Stones'}, {'SongName': 'Mean Disposition', 'ArtistName': 'The Rolling Stones'}]\n",
      "==================================\u001b[1m Ai Message \u001b[0m==================================\n",
      "\n",
      "Based on what you like about The Rolling Stones, here are some recommendations directly from their catalog along with a few similar classic rock tracks by other artists that you might enjoy:\n",
      "\n",
      "Rolling Stones Picks:\n",
      "• Time Is On My Side – The Rolling Stones\n",
      "• Satisfaction – The Rolling Stones\n",
      "• Paint It Black – The Rolling Stones\n",
      "• Ruby Tuesday – The Rolling Stones\n",
      "• Let's Spend The Night Together – The Rolling Stones\n",
      "\n",
      "If you’re in the mood to explore similar vibes, you might also enjoy:\n",
      "• Stairway To Heaven – Led Zeppelin\n",
      "• Time – Pink Floyd\n",
      "• She Talks To Angels – The Black Crowes\n",
      "\n",
      "Each of these tracks carries that raw, classic rock energy that fans of The Rolling Stones usually love. Let me know if you’d like to dive into more recommendations or need further details on any of these songs!\n"
     ]
    }
   ],
   "source": [
    "question = \"I like the Rolling Stones. What songs do you recommend by them or by other artists that I might like?\"\n",
    "thread_0 = {\"configurable\": {\"thread_id\": \"2\"}}\n",
    "\n",
    "result = music_catalog_subagent.invoke({\"messages\": [HumanMessage(content=question)]}, config=thread_0)\n",
    "\n",
    "for message in result[\"messages\"]:\n",
    "   message.pretty_print()"
   ]
  },
  {
   "cell_type": "markdown",
   "metadata": {},
   "source": [
    "### Step 1.2. Building ReAct Agent using LangGraph Pre-built"
   ]
  },
  {
   "cell_type": "markdown",
   "metadata": {},
   "source": [
    "LangGraph offers pre-built libraries for common architectures, allowing us to quickly create architectures like ReAct or multi-agent architacture. A full list of pre-built libraries can be found here: https://langchain-ai.github.io/langgraph/prebuilt/#available-libraries \n",
    "\n",
    "In the last workflow, we have seen how we can build a ReAct agent from scratch. Now, we will show how we can leverage the LangGraph pre-built libraries to achieve similar results. \n",
    "\n",
    "![react_2](images/invoice_subagent.png)\n",
    "\n",
    "Our **invoice info subagent** is responsible for all customer queries related to the invoices. "
   ]
  },
  {
   "cell_type": "markdown",
   "metadata": {},
   "source": [
    "#### Defining tools and prompt\n",
    "Similarly, let's first define a set of tools and our agent prompt below. "
   ]
  },
  {
   "cell_type": "code",
   "execution_count": 14,
   "metadata": {},
   "outputs": [],
   "source": [
    "from langchain_core.tools import tool\n",
    "\n",
    "@tool \n",
    "def get_invoices_by_customer_sorted_by_date(customer_id: str) -> list[dict]:\n",
    "    \"\"\"\n",
    "    Look up all invoices for a customer using their ID.\n",
    "    The invoices are sorted in descending order by invoice date, which helps when the customer wants to view their most recent/oldest invoice, or if \n",
    "    they want to view invoices within a specific date range.\n",
    "    \n",
    "    Args:\n",
    "        customer_id (str): customer_id, which serves as the identifier.\n",
    "    \n",
    "    Returns:\n",
    "        list[dict]: A list of invoices for the customer.\n",
    "    \"\"\"\n",
    "    return db.run(f\"SELECT * FROM Invoice WHERE CustomerId = {customer_id} ORDER BY InvoiceDate DESC;\")\n",
    "\n",
    "\n",
    "@tool \n",
    "def get_invoices_sorted_by_unit_price(customer_id: str) -> list[dict]:\n",
    "    \"\"\"\n",
    "    Use this tool when the customer wants to know the details of one of their invoices based on the unit price/cost of the invoice.\n",
    "    This tool looks up all invoices for a customer, and sorts the unit price from highest to lowest. In order to find the invoice associated with the customer, \n",
    "    we need to know the customer ID.\n",
    "    \n",
    "    Args:\n",
    "        customer_id (str): customer_id, which serves as the identifier.\n",
    "    \n",
    "    Returns:\n",
    "        list[dict]: A list of invoices sorted by unit price.\n",
    "    \"\"\"\n",
    "    query = f\"\"\"\n",
    "        SELECT Invoice.*, InvoiceLine.UnitPrice\n",
    "        FROM Invoice\n",
    "        JOIN InvoiceLine ON Invoice.InvoiceId = InvoiceLine.InvoiceId\n",
    "        WHERE Invoice.CustomerId = {customer_id}\n",
    "        ORDER BY InvoiceLine.UnitPrice DESC;\n",
    "    \"\"\"\n",
    "    return db.run(query)\n",
    "\n",
    "\n",
    "@tool\n",
    "def get_employee_by_invoice_and_customer(invoice_id: str, customer_id: str) -> dict:\n",
    "    \"\"\"\n",
    "    This tool will take in an invoice ID and a customer ID and return the employee information associated with the invoice.\n",
    "\n",
    "    Args:\n",
    "        invoice_id (int): The ID of the specific invoice.\n",
    "        customer_id (str): customer_id, which serves as the identifier.\n",
    "\n",
    "    Returns:\n",
    "        dict: Information about the employee associated with the invoice.\n",
    "    \"\"\"\n",
    "\n",
    "    query = f\"\"\"\n",
    "        SELECT Employee.FirstName, Employee.Title, Employee.Email\n",
    "        FROM Employee\n",
    "        JOIN Customer ON Customer.SupportRepId = Employee.EmployeeId\n",
    "        JOIN Invoice ON Invoice.CustomerId = Customer.CustomerId\n",
    "        WHERE Invoice.InvoiceId = ({invoice_id}) AND Invoice.CustomerId = ({customer_id});\n",
    "    \"\"\"\n",
    "    \n",
    "    employee_info = db.run(query, include_columns=True)\n",
    "    \n",
    "    if not employee_info:\n",
    "        return f\"No employee found for invoice ID {invoice_id} and customer identifier {customer_id}.\"\n",
    "    return employee_info\n",
    "\n",
    "invoice_tools = [get_invoices_by_customer_sorted_by_date, get_invoices_sorted_by_unit_price, get_employee_by_invoice_and_customer]"
   ]
  },
  {
   "cell_type": "code",
   "execution_count": 15,
   "metadata": {},
   "outputs": [],
   "source": [
    "invoice_subagent_prompt = \"\"\"\n",
    "    You are a subagent among a team of assistants. You are specialized for retrieving and processing invoice information. You are routed for invoice-related portion of the questions, so only respond to them.. \n",
    "\n",
    "    You have access to three tools. These tools enable you to retrieve and process invoice information from the database. Here are the tools:\n",
    "    - get_invoices_by_customer_sorted_by_date: This tool retrieves all invoices for a customer, sorted by invoice date.\n",
    "    - get_invoices_sorted_by_unit_price: This tool retrieves all invoices for a customer, sorted by unit price.\n",
    "    - get_employee_by_invoice_and_customer: This tool retrieves the employee information associated with an invoice and a customer.\n",
    "    \n",
    "    If you are unable to retrieve the invoice information, inform the customer you are unable to retrieve the information, and ask if they would like to search for something else.\n",
    "    \n",
    "    CORE RESPONSIBILITIES:\n",
    "    - Retrieve and process invoice information from the database\n",
    "    - Provide detailed information about invoices, including customer details, invoice dates, total amounts, employees associated with the invoice, etc. when the customer asks for it.\n",
    "    - Always maintain a professional, friendly, and patient demeanor\n",
    "    \n",
    "    You may have additional context that you should use to help answer the customer's query. It will be provided to you below:\n",
    "    \"\"\""
   ]
  },
  {
   "cell_type": "markdown",
   "metadata": {},
   "source": [
    "#### Using the pre-built library\n",
    "Now, let's put them together by using the pre-built ReAct agent library"
   ]
  },
  {
   "cell_type": "code",
   "execution_count": 16,
   "metadata": {},
   "outputs": [
    {
     "data": {
      "image/png": "[encoded data removed]",
      "text/plain": [
       "<IPython.core.display.Image object>"
      ]
     },
     "metadata": {},
     "output_type": "display_data"
    }
   ],
   "source": [
    "from langgraph.prebuilt import create_react_agent\n",
    "\n",
    "# Define the subagent \n",
    "invoice_information_subagent = create_react_agent(model, tools=invoice_tools, name=\"invoice_information_subagent\",prompt=invoice_subagent_prompt, state_schema=State, checkpointer=checkpointer, store=in_memory_store)\n",
    "\n",
    "# Visualize the graph\n",
    "display(Image(invoice_information_subagent.get_graph().draw_mermaid_png()))"
   ]
  },
  {
   "cell_type": "markdown",
   "metadata": {},
   "source": [
    "#### Testing!\n",
    "Let's try our new agent out!"
   ]
  },
  {
   "cell_type": "code",
   "execution_count": 17,
   "metadata": {
    "scrolled": true
   },
   "outputs": [
    {
     "name": "stdout",
     "output_type": "stream",
     "text": [
      "================================\u001b[1m Human Message \u001b[0m=================================\n",
      "\n",
      "My custormer id is 1. What was my most recent invoice, and who was the employee that helped me with it?\n",
      "==================================\u001b[1m Ai Message \u001b[0m==================================\n",
      "Name: invoice_information_subagent\n",
      "Tool Calls:\n",
      "  get_invoices_by_customer_sorted_by_date (call_YXWuknO3bgvrUmkHep0g1waO)\n",
      " Call ID: call_YXWuknO3bgvrUmkHep0g1waO\n",
      "  Args:\n",
      "    customer_id: 1\n",
      "=================================\u001b[1m Tool Message \u001b[0m=================================\n",
      "Name: get_invoices_by_customer_sorted_by_date\n",
      "\n",
      "[(382, 1, '2013-08-07 00:00:00', 'Av. Brigadeiro Faria Lima, 2170', 'São José dos Campos', 'SP', 'Brazil', '12227-000', 8.91), (327, 1, '2012-12-07 00:00:00', 'Av. Brigadeiro Faria Lima, 2170', 'São José dos Campos', 'SP', 'Brazil', '12227-000', 13.86), (316, 1, '2012-10-27 00:00:00', 'Av. Brigadeiro Faria Lima, 2170', 'São José dos Campos', 'SP', 'Brazil', '12227-000', 1.98), (195, 1, '2011-05-06 00:00:00', 'Av. Brigadeiro Faria Lima, 2170', 'São José dos Campos', 'SP', 'Brazil', '12227-000', 0.99), (143, 1, '2010-09-15 00:00:00', 'Av. Brigadeiro Faria Lima, 2170', 'São José dos Campos', 'SP', 'Brazil', '12227-000', 5.94), (121, 1, '2010-06-13 00:00:00', 'Av. Brigadeiro Faria Lima, 2170', 'São José dos Campos', 'SP', 'Brazil', '12227-000', 3.96), (98, 1, '2010-03-11 00:00:00', 'Av. Brigadeiro Faria Lima, 2170', 'São José dos Campos', 'SP', 'Brazil', '12227-000', 3.98)]\n",
      "==================================\u001b[1m Ai Message \u001b[0m==================================\n",
      "Name: invoice_information_subagent\n",
      "Tool Calls:\n",
      "  get_employee_by_invoice_and_customer (call_yN1Fj4crMwrXNalp0FF5VZf5)\n",
      " Call ID: call_yN1Fj4crMwrXNalp0FF5VZf5\n",
      "  Args:\n",
      "    invoice_id: 382\n",
      "    customer_id: 1\n",
      "=================================\u001b[1m Tool Message \u001b[0m=================================\n",
      "Name: get_employee_by_invoice_and_customer\n",
      "\n",
      "[{'FirstName': 'Jane', 'Title': 'Sales Support Agent', 'Email': 'jane@chinookcorp.com'}]\n",
      "==================================\u001b[1m Ai Message \u001b[0m==================================\n",
      "Name: invoice_information_subagent\n",
      "\n",
      "Your most recent invoice is ID 382 dated 2013-08-07, and it was handled by Jane, our Sales Support Agent (jane@chinookcorp.com).\n"
     ]
    }
   ],
   "source": [
    "question = \"My custormer id is 1. What was my most recent invoice, and who was the employee that helped me with it?\"\n",
    "thread_1 = {\"configurable\": {\"thread_id\": \"4\"}}\n",
    "\n",
    "result = invoice_information_subagent.invoke({\"messages\": [HumanMessage(content=question)]}, config = thread_1)\n",
    "for message in result[\"messages\"]:\n",
    "    message.pretty_print()"
   ]
  },
  {
   "cell_type": "markdown",
   "metadata": {},
   "source": [
    "\n",
    "## Step 2. Building multi-agent architecture"
   ]
  },
  {
   "cell_type": "markdown",
   "metadata": {},
   "source": [
    "Now that we have two sub-agents that have different capabilities. How do we make sure customer tasks are appropriately routed between them? \n",
    "\n",
    "This is where the supervisor oversees the workflow, invoking appropriate subagents for relevant inquiries. \n",
    "\n",
    "\n",
    "A **multi-agent architecture** offers several key benefits:\n",
    "- Specialization & Modularity – Each sub-agent is optimized for a specific task, improving system accuracy \n",
    "- Flexibility – Agents can be quickly added, removed, or modified without affecting the entire system\n",
    "\n",
    "![supervisor](images/supervisor.png)\n",
    "\n",
    "We will show how we can utilize the pre-built supervisor to quickly create the multi-agent architecture. "
   ]
  },
  {
   "cell_type": "markdown",
   "metadata": {},
   "source": [
    "First, we will create a set of instructions for our supervisor. "
   ]
  },
  {
   "cell_type": "code",
   "execution_count": 18,
   "metadata": {},
   "outputs": [],
   "source": [
    "supervisor_prompt = \"\"\"You are an expert customer support assistant for a digital music store. \n",
    "You are dedicated to providing exceptional service and ensuring customer queries are answered thoroughly. \n",
    "You have a team of subagents that you can use to help answer queries from customers. \n",
    "Your primary role is to serve as a supervisor/planner for this multi-agent team that helps answer queries from customers. \n",
    "\n",
    "Your team is composed of two subagents that you can use to help answer the customer's request:\n",
    "1. music_catalog_information_subagent: this subagent has access to user's saved music preferences. It can also retrieve information about the digital music store's music \n",
    "catalog (albums, tracks, songs, etc.) from the database. \n",
    "3. invoice_information_subagent: this subagent is able to retrieve information about a customer's past purchases or invoices \n",
    "from the database. \n",
    "\n",
    "Based on the existing steps that have been taken in the messages, your role is to generate the next subagent that needs to be called. \n",
    "This could be one step in an inquiry that needs multiple sub-agent calls. \"\"\""
   ]
  },
  {
   "cell_type": "markdown",
   "metadata": {},
   "source": [
    "Using the LangGraph Pre-built library"
   ]
  },
  {
   "cell_type": "code",
   "execution_count": 19,
   "metadata": {},
   "outputs": [
    {
     "name": "stdout",
     "output_type": "stream",
     "text": [
      "Note: you may need to restart the kernel to use updated packages.\n"
     ]
    }
   ],
   "source": [
    "pip install -q langgraph-supervisor"
   ]
  },
  {
   "cell_type": "code",
   "execution_count": 20,
   "metadata": {},
   "outputs": [
    {
     "data": {
      "image/png": "[encoded data removed]",
      "text/plain": [
       "<IPython.core.display.Image object>"
      ]
     },
     "metadata": {},
     "output_type": "display_data"
    }
   ],
   "source": [
    "from langgraph_supervisor import create_supervisor\n",
    "\n",
    "# Create supervisor workflow\n",
    "supervisor_prebuilt_workflow = create_supervisor(\n",
    "    agents=[invoice_information_subagent, music_catalog_subagent],\n",
    "    output_mode=\"full_history\", # alternative is last_message\n",
    "    model=model,\n",
    "    prompt=(supervisor_prompt), \n",
    "    state_schema=State\n",
    ")\n",
    "\n",
    "supervisor_prebuilt = supervisor_prebuilt_workflow.compile(name=\"music_catalog_subagent\", checkpointer=checkpointer, store=in_memory_store)\n",
    "\n",
    "# Visualize the graph\n",
    "display(Image(supervisor_prebuilt.get_graph().draw_mermaid_png()))"
   ]
  },
  {
   "cell_type": "markdown",
   "metadata": {},
   "source": [
    "Let's test it out!"
   ]
  },
  {
   "cell_type": "code",
   "execution_count": 21,
   "metadata": {
    "scrolled": true
   },
   "outputs": [
    {
     "name": "stdout",
     "output_type": "stream",
     "text": [
      "================================\u001b[1m Human Message \u001b[0m=================================\n",
      "\n",
      "My customer ID is 1. How much was my most recent purchase? What albums do you have by U2?\n",
      "==================================\u001b[1m Ai Message \u001b[0m==================================\n",
      "Name: supervisor\n",
      "Tool Calls:\n",
      "  transfer_to_invoice_information_subagent (call_hVqrKlak7tgL8lYuM4ZqjgTy)\n",
      " Call ID: call_hVqrKlak7tgL8lYuM4ZqjgTy\n",
      "  Args:\n",
      "=================================\u001b[1m Tool Message \u001b[0m=================================\n",
      "Name: transfer_to_invoice_information_subagent\n",
      "\n",
      "Successfully transferred to invoice_information_subagent\n",
      "==================================\u001b[1m Ai Message \u001b[0m==================================\n",
      "Name: invoice_information_subagent\n",
      "Tool Calls:\n",
      "  get_invoices_by_customer_sorted_by_date (call_a55jWERIeR6hcjL7wIOsd0hd)\n",
      " Call ID: call_a55jWERIeR6hcjL7wIOsd0hd\n",
      "  Args:\n",
      "    customer_id: 1\n",
      "=================================\u001b[1m Tool Message \u001b[0m=================================\n",
      "Name: get_invoices_by_customer_sorted_by_date\n",
      "\n",
      "[(382, 1, '2013-08-07 00:00:00', 'Av. Brigadeiro Faria Lima, 2170', 'São José dos Campos', 'SP', 'Brazil', '12227-000', 8.91), (327, 1, '2012-12-07 00:00:00', 'Av. Brigadeiro Faria Lima, 2170', 'São José dos Campos', 'SP', 'Brazil', '12227-000', 13.86), (316, 1, '2012-10-27 00:00:00', 'Av. Brigadeiro Faria Lima, 2170', 'São José dos Campos', 'SP', 'Brazil', '12227-000', 1.98), (195, 1, '2011-05-06 00:00:00', 'Av. Brigadeiro Faria Lima, 2170', 'São José dos Campos', 'SP', 'Brazil', '12227-000', 0.99), (143, 1, '2010-09-15 00:00:00', 'Av. Brigadeiro Faria Lima, 2170', 'São José dos Campos', 'SP', 'Brazil', '12227-000', 5.94), (121, 1, '2010-06-13 00:00:00', 'Av. Brigadeiro Faria Lima, 2170', 'São José dos Campos', 'SP', 'Brazil', '12227-000', 3.96), (98, 1, '2010-03-11 00:00:00', 'Av. Brigadeiro Faria Lima, 2170', 'São José dos Campos', 'SP', 'Brazil', '12227-000', 3.98)]\n",
      "==================================\u001b[1m Ai Message \u001b[0m==================================\n",
      "Name: invoice_information_subagent\n",
      "\n",
      "Your most recent purchase was for $8.91. \n",
      "\n",
      "I'm sorry, but I can only help with invoice-related inquiries. Would you like assistance with something else related to your invoices?\n",
      "==================================\u001b[1m Ai Message \u001b[0m==================================\n",
      "Name: invoice_information_subagent\n",
      "\n",
      "Transferring back to supervisor\n",
      "Tool Calls:\n",
      "  transfer_back_to_supervisor (25a1d689-767f-418a-a13d-9a679177a154)\n",
      " Call ID: 25a1d689-767f-418a-a13d-9a679177a154\n",
      "  Args:\n",
      "=================================\u001b[1m Tool Message \u001b[0m=================================\n",
      "Name: transfer_back_to_supervisor\n",
      "\n",
      "Successfully transferred back to supervisor\n",
      "==================================\u001b[1m Ai Message \u001b[0m==================================\n",
      "Name: supervisor\n",
      "Tool Calls:\n",
      "  transfer_to_music_catalog_subagent (call_LdxTiuenr06OaugTzyBGzYIg)\n",
      " Call ID: call_LdxTiuenr06OaugTzyBGzYIg\n",
      "  Args:\n",
      "=================================\u001b[1m Tool Message \u001b[0m=================================\n",
      "Name: transfer_to_music_catalog_subagent\n",
      "\n",
      "Successfully transferred to music_catalog_subagent\n",
      "==================================\u001b[1m Ai Message \u001b[0m==================================\n",
      "Tool Calls:\n",
      "  get_albums_by_artist (call_sNghdmqOEkDywKXhN0i1gVPW)\n",
      " Call ID: call_sNghdmqOEkDywKXhN0i1gVPW\n",
      "  Args:\n",
      "    artist: U2\n",
      "=================================\u001b[1m Tool Message \u001b[0m=================================\n",
      "Name: get_albums_by_artist\n",
      "\n",
      "[{'Title': 'In Your Honor [Disc 1]', 'Name': 'Foo Fighters'}, {'Title': 'In Your Honor [Disc 2]', 'Name': 'Foo Fighters'}, {'Title': 'One By One', 'Name': 'Foo Fighters'}, {'Title': 'The Colour And The Shape', 'Name': 'Foo Fighters'}, {'Title': 'Dark Side Of The Moon', 'Name': 'Pink Floyd'}, {'Title': 'Achtung Baby', 'Name': 'U2'}, {'Title': \"All That You Can't Leave Behind\", 'Name': 'U2'}, {'Title': 'B-Sides 1980-1990', 'Name': 'U2'}, {'Title': 'How To Dismantle An Atomic Bomb', 'Name': 'U2'}, {'Title': 'Pop', 'Name': 'U2'}, {'Title': 'Rattle And Hum', 'Name': 'U2'}, {'Title': 'The Best Of 1980-1990', 'Name': 'U2'}, {'Title': 'War', 'Name': 'U2'}, {'Title': 'Zooropa', 'Name': 'U2'}, {'Title': 'Instant Karma: The Amnesty International Campaign to Save Darfur', 'Name': 'U2'}, {'Title': 'UB40 The Best Of - Volume Two [UK]', 'Name': 'UB40'}]\n",
      "==================================\u001b[1m Ai Message \u001b[0m==================================\n",
      "\n",
      "Here are the U2 albums available in our catalog:\n",
      "\n",
      "• Achtung Baby  \n",
      "• All That You Can't Leave Behind  \n",
      "• B-Sides 1980-1990  \n",
      "• How To Dismantle An Atomic Bomb  \n",
      "• Pop  \n",
      "• Rattle And Hum  \n",
      "• The Best Of 1980-1990  \n",
      "• War  \n",
      "• Zooropa  \n",
      "• Instant Karma: The Amnesty International Campaign to Save Darfur\n",
      "\n",
      "Let me know if you'd like more details about any of these albums or need help with something else.\n",
      "==================================\u001b[1m Ai Message \u001b[0m==================================\n",
      "Name: music_catalog_subagent\n",
      "\n",
      "Transferring back to supervisor\n",
      "Tool Calls:\n",
      "  transfer_back_to_supervisor (a4400918-8189-4e21-aa1d-fda735bc1b2d)\n",
      " Call ID: a4400918-8189-4e21-aa1d-fda735bc1b2d\n",
      "  Args:\n",
      "=================================\u001b[1m Tool Message \u001b[0m=================================\n",
      "Name: transfer_back_to_supervisor\n",
      "\n",
      "Successfully transferred back to supervisor\n",
      "==================================\u001b[1m Ai Message \u001b[0m==================================\n",
      "Name: supervisor\n",
      "\n",
      "Your most recent purchase was for $8.91.\n",
      "\n",
      "Additionally, our catalog currently includes the following U2 albums:\n",
      "• Achtung Baby  \n",
      "• All That You Can't Leave Behind  \n",
      "• B-Sides 1980-1990  \n",
      "• How To Dismantle An Atomic Bomb  \n",
      "• Pop  \n",
      "• Rattle And Hum  \n",
      "• The Best Of 1980-1990  \n",
      "• War  \n",
      "• Zooropa  \n",
      "• Instant Karma: The Amnesty International Campaign to Save Darfur\n",
      "\n",
      "Let me know if you need more details about any of these albums or if you have any other questions!\n"
     ]
    }
   ],
   "source": [
    "question = \"My customer ID is 1. How much was my most recent purchase? What albums do you have by U2?\"\n",
    "thread_2 = {\"configurable\": {\"thread_id\": \"5\"}}\n",
    "\n",
    "result = supervisor_prebuilt.invoke({\"messages\": [HumanMessage(content=question)]}, config = thread_2)\n",
    "for message in result[\"messages\"]:\n",
    "    message.pretty_print()"
   ]
  },
  {
   "cell_type": "markdown",
   "metadata": {},
   "source": [
    "## Step 3. Adding customer verification through human-in-the-loop"
   ]
  },
  {
   "cell_type": "markdown",
   "metadata": {},
   "source": [
    "We currently invoke our graph with a customer ID as the customer identifier, but realistically, we may not always have access to the customer identity. To solve this, we want to **first verify the customer information** before executing their inquiry with our supervisor agent. \n",
    "\n",
    "In this step, we will be showing a simple implementation of such a node, using **human-in-the-loop** to prompt the customer to provide their account information. \n",
    "\n",
    "![customer-input](images/human_input.png)"
   ]
  },
  {
   "cell_type": "markdown",
   "metadata": {},
   "source": [
    "In this step, we will write two nodes: \n",
    "- **verify_info** node that verifies account information \n",
    "- **human_input** node that prompts user to provde additional information \n",
    "\n",
    "LLM supports attaching a structured data schema to adhere response to. This is useful in scenarios like extracting information or categorizing. "
   ]
  },
  {
   "cell_type": "code",
   "execution_count": 22,
   "metadata": {},
   "outputs": [],
   "source": [
    "from pydantic import BaseModel, Field\n",
    "\n",
    "class UserInput(BaseModel):\n",
    "    \"\"\"Schema for parsing user-provided account information.\"\"\"\n",
    "    identifier: str = Field(description = \"Identifier, which can be a customer ID, email, or phone number.\")\n",
    "\n",
    "\n",
    "structured_llm = model.with_structured_output(schema=UserInput)\n",
    "structured_system_prompt = \"\"\"You are a customer service representative responsible for extracting customer identifier.\\n \n",
    "Only extract the customer's account information from the message history. \n",
    "If they haven't provided the information yet, return an empty string for the file\"\"\""
   ]
  },
  {
   "cell_type": "code",
   "execution_count": 23,
   "metadata": {},
   "outputs": [],
   "source": [
    "from typing import Optional\n",
    "\n",
    "# Helper \n",
    "def get_customer_id_from_identifier(identifier: str) -> Optional[int]:\n",
    "    \"\"\"\n",
    "    Retrieve Customer ID using an identifier, which can be a customer ID, email, or phone number.\n",
    "    \n",
    "    Args:\n",
    "        identifier (str): The identifier can be customer ID, email, or phone.\n",
    "    \n",
    "    Returns:\n",
    "        Optional[int]: The CustomerId if found, otherwise None.\n",
    "    \"\"\"\n",
    "    if identifier.isdigit():\n",
    "        return int(identifier)\n",
    "    elif identifier[0] == \"+\":\n",
    "        query = f\"SELECT CustomerId FROM Customer WHERE Phone = '{identifier}';\"\n",
    "        result = db.run(query)\n",
    "        formatted_result = ast.literal_eval(result)\n",
    "        if formatted_result:\n",
    "            return formatted_result[0][0]\n",
    "    elif \"@\" in identifier:\n",
    "        query = f\"SELECT CustomerId FROM Customer WHERE Email = '{identifier}';\"\n",
    "        result = db.run(query)\n",
    "        formatted_result = ast.literal_eval(result)\n",
    "        if formatted_result:\n",
    "            return formatted_result[0][0]\n",
    "    return None "
   ]
  },
  {
   "cell_type": "code",
   "execution_count": 24,
   "metadata": {},
   "outputs": [],
   "source": [
    "# Node\n",
    "\n",
    "def verify_info(state: State, config: RunnableConfig):\n",
    "    \"\"\"Verify the customer's account by parsing their input and matching it with the database.\"\"\"\n",
    "\n",
    "    if \"customer_id\" not in state: \n",
    "\n",
    "        system_instructions = \"\"\"You are a music store agent, where you are trying to verify the customer identity \n",
    "        as the first step of the customer support process. \n",
    "        Only after their account is verified, you would be able to support them on resolving the issue. \n",
    "        In order to verify their identity, one of their customer ID, email, or phone number needs to be provided.\n",
    "        If the customer has not provided their identifier, please ask them for it.\n",
    "        If they have provided the identifier but cannot be found, please ask them to revise it.\"\"\"\n",
    "    \n",
    "    \n",
    "        user_input = state[\"messages\"][-1] \n",
    "    \n",
    "        # Parse for customer ID\n",
    "        parsed_info = structured_llm.invoke([SystemMessage(content=structured_system_prompt)] + [user_input])\n",
    "    \n",
    "        # Extract details\n",
    "        identifier = parsed_info.identifier\n",
    "    \n",
    "        customer_id = \"\"\n",
    "        # Attempt to find the customer ID\n",
    "        if (identifier):\n",
    "            customer_id = get_customer_id_from_identifier(identifier)\n",
    "    \n",
    "        if customer_id != \"\":\n",
    "            intent_message = SystemMessage(\n",
    "                content= f\"Thank you for providing your information! I was able to verify your account with customer id {customer_id}.\"\n",
    "            )\n",
    "            return {\n",
    "                  \"customer_id\": customer_id,\n",
    "                  \"messages\" : [intent_message]\n",
    "                  }\n",
    "        else:\n",
    "          response = model.invoke([SystemMessage(content=system_instructions)]+state['messages'])\n",
    "          return {\"messages\": [response]}\n",
    "\n",
    "    else: \n",
    "        pass\n"
   ]
  },
  {
   "cell_type": "markdown",
   "metadata": {},
   "source": [
    "Now, let's create our human_input node. We will be prompting the user input through the Interrupt class. "
   ]
  },
  {
   "cell_type": "code",
   "execution_count": 25,
   "metadata": {},
   "outputs": [],
   "source": [
    "# Node\n",
    "def human_input(state: State, config: RunnableConfig):\n",
    "    \"\"\" No-op node that should be interrupted on \"\"\"\n",
    "    user_input = interrupt(\"Please provide input.\")\n",
    "    return {\"messages\": [user_input]}"
   ]
  },
  {
   "cell_type": "markdown",
   "metadata": {},
   "source": [
    "Let's put this together! "
   ]
  },
  {
   "cell_type": "code",
   "execution_count": 26,
   "metadata": {},
   "outputs": [],
   "source": [
    "from langgraph.types import interrupt\n",
    "\n",
    "# conditional_edge\n",
    "def should_interrupt(state: State, config: RunnableConfig):\n",
    "    if \"customer_id\" in state:\n",
    "        return \"continue\"\n",
    "    else:\n",
    "        return \"interrupt\""
   ]
  },
  {
   "cell_type": "code",
   "execution_count": 27,
   "metadata": {},
   "outputs": [
    {
     "data": {
      "image/png": "[encoded data removed]",
      "text/plain": [
       "<IPython.core.display.Image object>"
      ]
     },
     "metadata": {},
     "output_type": "display_data"
    }
   ],
   "source": [
    "# Add nodes \n",
    "multi_agent_verify = StateGraph(State)\n",
    "multi_agent_verify.add_node(\"verify_info\", verify_info)\n",
    "multi_agent_verify.add_node(\"human_input\", human_input)\n",
    "multi_agent_verify.add_node(\"supervisor\", supervisor_prebuilt)\n",
    "\n",
    "multi_agent_verify.add_edge(START, \"verify_info\")\n",
    "multi_agent_verify.add_conditional_edges(\n",
    "    \"verify_info\",\n",
    "    should_interrupt,\n",
    "    {\n",
    "        \"continue\": \"supervisor\",\n",
    "        \"interrupt\": \"human_input\",\n",
    "    },\n",
    ")\n",
    "multi_agent_verify.add_edge(\"human_input\", \"verify_info\")\n",
    "multi_agent_verify.add_edge(\"supervisor\", END)\n",
    "multi_agent_verify_graph = multi_agent_verify.compile(name=\"multi_agent_verify\", checkpointer=checkpointer, store=in_memory_store)\n",
    "\n",
    "display(Image(multi_agent_verify_graph.get_graph().draw_mermaid_png()))"
   ]
  },
  {
   "cell_type": "markdown",
   "metadata": {},
   "source": [
    "Let's test it out!"
   ]
  },
  {
   "cell_type": "code",
   "execution_count": 28,
   "metadata": {},
   "outputs": [
    {
     "name": "stdout",
     "output_type": "stream",
     "text": [
      "================================\u001b[1m Human Message \u001b[0m=================================\n",
      "\n",
      "How much was my most recent purchase?\n",
      "==================================\u001b[1m Ai Message \u001b[0m==================================\n",
      "\n",
      "I’d be happy to help with that. Could you please provide your customer ID, email, or phone number so I can locate your account?\n"
     ]
    }
   ],
   "source": [
    "question = \"How much was my most recent purchase?\"\n",
    "thread_3 = {\"configurable\": {\"thread_id\": \"9\"}}\n",
    "\n",
    "result = multi_agent_verify_graph.invoke({\"messages\": [HumanMessage(content=question)]}, config = thread_3)\n",
    "for message in result[\"messages\"]:\n",
    "    message.pretty_print()"
   ]
  },
  {
   "cell_type": "code",
   "execution_count": 29,
   "metadata": {
    "scrolled": true
   },
   "outputs": [
    {
     "name": "stdout",
     "output_type": "stream",
     "text": [
      "================================\u001b[1m Human Message \u001b[0m=================================\n",
      "\n",
      "How much was my most recent purchase?\n",
      "==================================\u001b[1m Ai Message \u001b[0m==================================\n",
      "\n",
      "I’d be happy to help with that. Could you please provide your customer ID, email, or phone number so I can locate your account?\n",
      "================================\u001b[1m Human Message \u001b[0m=================================\n",
      "\n",
      "My phone number is +55 (12) 3923-5555.\n",
      "================================\u001b[1m System Message \u001b[0m================================\n",
      "\n",
      "Thank you for providing your information! I was able to verify your account with customer id 1.\n",
      "==================================\u001b[1m Ai Message \u001b[0m==================================\n",
      "Name: supervisor\n",
      "Tool Calls:\n",
      "  transfer_to_invoice_information_subagent (call_UrwuEJTe4tOdmrVb9QsSkNN1)\n",
      " Call ID: call_UrwuEJTe4tOdmrVb9QsSkNN1\n",
      "  Args:\n",
      "=================================\u001b[1m Tool Message \u001b[0m=================================\n",
      "Name: transfer_to_invoice_information_subagent\n",
      "\n",
      "Successfully transferred to invoice_information_subagent\n",
      "==================================\u001b[1m Ai Message \u001b[0m==================================\n",
      "Name: invoice_information_subagent\n",
      "Tool Calls:\n",
      "  get_invoices_by_customer_sorted_by_date (call_OUfQpEA0vX3vSPmuzk0g93vd)\n",
      " Call ID: call_OUfQpEA0vX3vSPmuzk0g93vd\n",
      "  Args:\n",
      "    customer_id: 1\n",
      "=================================\u001b[1m Tool Message \u001b[0m=================================\n",
      "Name: get_invoices_by_customer_sorted_by_date\n",
      "\n",
      "[(382, 1, '2013-08-07 00:00:00', 'Av. Brigadeiro Faria Lima, 2170', 'São José dos Campos', 'SP', 'Brazil', '12227-000', 8.91), (327, 1, '2012-12-07 00:00:00', 'Av. Brigadeiro Faria Lima, 2170', 'São José dos Campos', 'SP', 'Brazil', '12227-000', 13.86), (316, 1, '2012-10-27 00:00:00', 'Av. Brigadeiro Faria Lima, 2170', 'São José dos Campos', 'SP', 'Brazil', '12227-000', 1.98), (195, 1, '2011-05-06 00:00:00', 'Av. Brigadeiro Faria Lima, 2170', 'São José dos Campos', 'SP', 'Brazil', '12227-000', 0.99), (143, 1, '2010-09-15 00:00:00', 'Av. Brigadeiro Faria Lima, 2170', 'São José dos Campos', 'SP', 'Brazil', '12227-000', 5.94), (121, 1, '2010-06-13 00:00:00', 'Av. Brigadeiro Faria Lima, 2170', 'São José dos Campos', 'SP', 'Brazil', '12227-000', 3.96), (98, 1, '2010-03-11 00:00:00', 'Av. Brigadeiro Faria Lima, 2170', 'São José dos Campos', 'SP', 'Brazil', '12227-000', 3.98)]\n",
      "==================================\u001b[1m Ai Message \u001b[0m==================================\n",
      "Name: invoice_information_subagent\n",
      "\n",
      "Your most recent purchase was for $8.91, made on August 7, 2013. Is there anything else you'd like to know about your invoices?\n",
      "==================================\u001b[1m Ai Message \u001b[0m==================================\n",
      "Name: invoice_information_subagent\n",
      "\n",
      "Transferring back to supervisor\n",
      "Tool Calls:\n",
      "  transfer_back_to_supervisor (338ae9f3-85e5-4783-acd3-14ba86e074d8)\n",
      " Call ID: 338ae9f3-85e5-4783-acd3-14ba86e074d8\n",
      "  Args:\n",
      "=================================\u001b[1m Tool Message \u001b[0m=================================\n",
      "Name: transfer_back_to_supervisor\n",
      "\n",
      "Successfully transferred back to supervisor\n",
      "==================================\u001b[1m Ai Message \u001b[0m==================================\n",
      "Name: supervisor\n",
      "\n",
      "Your most recent purchase was for $8.91 on August 7, 2013. Is there anything else you'd like to check regarding your invoices or any other account information?\n"
     ]
    }
   ],
   "source": [
    "from langgraph.types import Command\n",
    "\n",
    "# Resume from interrupt \n",
    "question = \"My phone number is +55 (12) 3923-5555.\"\n",
    "result = multi_agent_verify_graph.invoke(Command(resume=question), config = thread_3)\n",
    "for message in result[\"messages\"]:\n",
    "    message.pretty_print()"
   ]
  },
  {
   "cell_type": "markdown",
   "metadata": {},
   "source": [
    "Now, if I ask a follow-up question in the same thread, our agent state stores our customer_id, not needing to verify again. "
   ]
  },
  {
   "cell_type": "code",
   "execution_count": 30,
   "metadata": {
    "scrolled": true
   },
   "outputs": [
    {
     "name": "stdout",
     "output_type": "stream",
     "text": [
      "================================\u001b[1m Human Message \u001b[0m=================================\n",
      "\n",
      "How much was my most recent purchase?\n",
      "==================================\u001b[1m Ai Message \u001b[0m==================================\n",
      "\n",
      "I’d be happy to help with that. Could you please provide your customer ID, email, or phone number so I can locate your account?\n",
      "================================\u001b[1m Human Message \u001b[0m=================================\n",
      "\n",
      "My phone number is +55 (12) 3923-5555.\n",
      "================================\u001b[1m System Message \u001b[0m================================\n",
      "\n",
      "Thank you for providing your information! I was able to verify your account with customer id 1.\n",
      "==================================\u001b[1m Ai Message \u001b[0m==================================\n",
      "Name: supervisor\n",
      "Tool Calls:\n",
      "  transfer_to_invoice_information_subagent (call_UrwuEJTe4tOdmrVb9QsSkNN1)\n",
      " Call ID: call_UrwuEJTe4tOdmrVb9QsSkNN1\n",
      "  Args:\n",
      "=================================\u001b[1m Tool Message \u001b[0m=================================\n",
      "Name: transfer_to_invoice_information_subagent\n",
      "\n",
      "Successfully transferred to invoice_information_subagent\n",
      "==================================\u001b[1m Ai Message \u001b[0m==================================\n",
      "Name: invoice_information_subagent\n",
      "Tool Calls:\n",
      "  get_invoices_by_customer_sorted_by_date (call_OUfQpEA0vX3vSPmuzk0g93vd)\n",
      " Call ID: call_OUfQpEA0vX3vSPmuzk0g93vd\n",
      "  Args:\n",
      "    customer_id: 1\n",
      "=================================\u001b[1m Tool Message \u001b[0m=================================\n",
      "Name: get_invoices_by_customer_sorted_by_date\n",
      "\n",
      "[(382, 1, '2013-08-07 00:00:00', 'Av. Brigadeiro Faria Lima, 2170', 'São José dos Campos', 'SP', 'Brazil', '12227-000', 8.91), (327, 1, '2012-12-07 00:00:00', 'Av. Brigadeiro Faria Lima, 2170', 'São José dos Campos', 'SP', 'Brazil', '12227-000', 13.86), (316, 1, '2012-10-27 00:00:00', 'Av. Brigadeiro Faria Lima, 2170', 'São José dos Campos', 'SP', 'Brazil', '12227-000', 1.98), (195, 1, '2011-05-06 00:00:00', 'Av. Brigadeiro Faria Lima, 2170', 'São José dos Campos', 'SP', 'Brazil', '12227-000', 0.99), (143, 1, '2010-09-15 00:00:00', 'Av. Brigadeiro Faria Lima, 2170', 'São José dos Campos', 'SP', 'Brazil', '12227-000', 5.94), (121, 1, '2010-06-13 00:00:00', 'Av. Brigadeiro Faria Lima, 2170', 'São José dos Campos', 'SP', 'Brazil', '12227-000', 3.96), (98, 1, '2010-03-11 00:00:00', 'Av. Brigadeiro Faria Lima, 2170', 'São José dos Campos', 'SP', 'Brazil', '12227-000', 3.98)]\n",
      "==================================\u001b[1m Ai Message \u001b[0m==================================\n",
      "Name: invoice_information_subagent\n",
      "\n",
      "Your most recent purchase was for $8.91, made on August 7, 2013. Is there anything else you'd like to know about your invoices?\n",
      "==================================\u001b[1m Ai Message \u001b[0m==================================\n",
      "Name: invoice_information_subagent\n",
      "\n",
      "Transferring back to supervisor\n",
      "Tool Calls:\n",
      "  transfer_back_to_supervisor (338ae9f3-85e5-4783-acd3-14ba86e074d8)\n",
      " Call ID: 338ae9f3-85e5-4783-acd3-14ba86e074d8\n",
      "  Args:\n",
      "=================================\u001b[1m Tool Message \u001b[0m=================================\n",
      "Name: transfer_back_to_supervisor\n",
      "\n",
      "Successfully transferred back to supervisor\n",
      "==================================\u001b[1m Ai Message \u001b[0m==================================\n",
      "Name: supervisor\n",
      "\n",
      "Your most recent purchase was for $8.91 on August 7, 2013. Is there anything else you'd like to check regarding your invoices or any other account information?\n",
      "================================\u001b[1m Human Message \u001b[0m=================================\n",
      "\n",
      "What albums do you have by the Rolling Stones?\n",
      "==================================\u001b[1m Ai Message \u001b[0m==================================\n",
      "Name: supervisor\n",
      "Tool Calls:\n",
      "  transfer_to_music_catalog_subagent (call_ewmATsWoDhR8OozT2jp0jDOy)\n",
      " Call ID: call_ewmATsWoDhR8OozT2jp0jDOy\n",
      "  Args:\n",
      "    query: albums_by_artist\n",
      "    artist: Rolling Stones\n",
      "=================================\u001b[1m Tool Message \u001b[0m=================================\n",
      "Name: transfer_to_music_catalog_subagent\n",
      "\n",
      "Successfully transferred to music_catalog_subagent\n",
      "==================================\u001b[1m Ai Message \u001b[0m==================================\n",
      "Tool Calls:\n",
      "  get_albums_by_artist (call_BiLoyn22Az7fZu8Al2DdHvtf)\n",
      " Call ID: call_BiLoyn22Az7fZu8Al2DdHvtf\n",
      "  Args:\n",
      "    artist: Rolling Stones\n",
      "=================================\u001b[1m Tool Message \u001b[0m=================================\n",
      "Name: get_albums_by_artist\n",
      "\n",
      "[{'Title': 'BBC Sessions [Disc 1] [Live]', 'Name': 'Led Zeppelin'}, {'Title': 'Physical Graffiti [Disc 1]', 'Name': 'Led Zeppelin'}, {'Title': 'BBC Sessions [Disc 2] [Live]', 'Name': 'Led Zeppelin'}, {'Title': 'Coda', 'Name': 'Led Zeppelin'}, {'Title': 'Houses Of The Holy', 'Name': 'Led Zeppelin'}, {'Title': 'In Through The Out Door', 'Name': 'Led Zeppelin'}, {'Title': 'IV', 'Name': 'Led Zeppelin'}, {'Title': 'Led Zeppelin I', 'Name': 'Led Zeppelin'}, {'Title': 'Led Zeppelin II', 'Name': 'Led Zeppelin'}, {'Title': 'Led Zeppelin III', 'Name': 'Led Zeppelin'}, {'Title': 'Physical Graffiti [Disc 2]', 'Name': 'Led Zeppelin'}, {'Title': 'Presence', 'Name': 'Led Zeppelin'}, {'Title': 'The Song Remains The Same (Disc 1)', 'Name': 'Led Zeppelin'}, {'Title': 'The Song Remains The Same (Disc 2)', 'Name': 'Led Zeppelin'}, {'Title': 'Appetite for Destruction', 'Name': \"Guns N' Roses\"}, {'Title': 'Use Your Illusion I', 'Name': \"Guns N' Roses\"}, {'Title': 'Use Your Illusion II', 'Name': \"Guns N' Roses\"}, {'Title': 'Dark Side Of The Moon', 'Name': 'Pink Floyd'}, {'Title': 'Hot Rocks, 1964-1971 (Disc 1)', 'Name': 'The Rolling Stones'}, {'Title': 'No Security', 'Name': 'The Rolling Stones'}, {'Title': 'Voodoo Lounge', 'Name': 'The Rolling Stones'}]\n",
      "==================================\u001b[1m Ai Message \u001b[0m==================================\n",
      "\n",
      "I found three albums by The Rolling Stones in our catalog:\n",
      "• Hot Rocks, 1964-1971 (Disc 1)\n",
      "• No Security\n",
      "• Voodoo Lounge\n",
      "\n",
      "Would you like more details about any of these albums, or perhaps check out some of their songs?\n",
      "==================================\u001b[1m Ai Message \u001b[0m==================================\n",
      "Name: music_catalog_subagent\n",
      "\n",
      "Transferring back to supervisor\n",
      "Tool Calls:\n",
      "  transfer_back_to_supervisor (02617909-d241-4fd0-a716-a1d7a56b8734)\n",
      " Call ID: 02617909-d241-4fd0-a716-a1d7a56b8734\n",
      "  Args:\n",
      "=================================\u001b[1m Tool Message \u001b[0m=================================\n",
      "Name: transfer_back_to_supervisor\n",
      "\n",
      "Successfully transferred back to supervisor\n",
      "==================================\u001b[1m Ai Message \u001b[0m==================================\n",
      "Name: supervisor\n",
      "\n",
      "I found three albums by The Rolling Stones in our catalog:\n",
      "\n",
      "• Hot Rocks, 1964-1971 (Disc 1)  \n",
      "• No Security  \n",
      "• Voodoo Lounge\n",
      "\n",
      "Would you like more details about any of these albums or need any further assistance?\n"
     ]
    }
   ],
   "source": [
    "question = \"What albums do you have by the Rolling Stones?\"\n",
    "result = multi_agent_verify_graph.invoke({\"messages\": [HumanMessage(content=question)]}, config = thread_3)\n",
    "for message in result[\"messages\"]:\n",
    "    message.pretty_print()"
   ]
  },
  {
   "cell_type": "markdown",
   "metadata": {},
   "source": [
    "## Step 4. Adding Long-Term Memory"
   ]
  },
  {
   "cell_type": "markdown",
   "metadata": {},
   "source": [
    "Now that we have created an agent workflow that includes verification and execution, let's take it a step further. \n",
    "\n",
    "**Long term memory** lets you store and recall information between conversations. We have already initialized a long term memory store. \n",
    "\n",
    "\n",
    "![memory](images/memory.png)\n",
    "\n",
    "In this step, we will add 2 nodes: \n",
    "- **load_memory** node that loads from the long term memory store\n",
    "- **create_memory** node that saves any music interests that the customer has shared about themselves "
   ]
  },
  {
   "cell_type": "code",
   "execution_count": 31,
   "metadata": {},
   "outputs": [],
   "source": [
    "from langgraph.store.base import BaseStore\n",
    "\n",
    "# helper function to structure memory \n",
    "def format_user_memory(user_data):\n",
    "    \"\"\"Formats music preferences from users, if available.\"\"\"\n",
    "    profile = user_data['memory']\n",
    "    result = \"\"\n",
    "    if hasattr(profile, 'music_preferences') and profile.music_preferences:\n",
    "        result += f\"Music Preferences: {', '.join(profile.music_preferences)}\"\n",
    "    return result.strip()\n",
    "\n",
    "# Node\n",
    "def load_memory(state: State, config: RunnableConfig, store: BaseStore):\n",
    "    \"\"\"Loads music preferences from users, if available.\"\"\"\n",
    "    \n",
    "    user_id = state[\"customer_id\"]\n",
    "    namespace = (\"memory_profile\", user_id)\n",
    "    existing_memory = store.get(namespace, \"user_memory\")\n",
    "    formatted_memory = \"\"\n",
    "    if existing_memory and existing_memory.value:\n",
    "        formatted_memory = format_user_memory(existing_memory.value)\n",
    "\n",
    "    return {\"loaded_memory\" : formatted_memory}"
   ]
  },
  {
   "cell_type": "code",
   "execution_count": 32,
   "metadata": {},
   "outputs": [],
   "source": [
    "# User profile structure for creating memory\n",
    "\n",
    "class UserProfile(BaseModel):\n",
    "    customer_id: str = Field(\n",
    "        description=\"The customer ID of the customer\"\n",
    "    )\n",
    "    music_preferences: List[str] = Field(\n",
    "        description=\"The music preferences of the customer\"\n",
    "    )"
   ]
  },
  {
   "cell_type": "code",
   "execution_count": 33,
   "metadata": {},
   "outputs": [],
   "source": [
    "create_memory_prompt = \"\"\"You are an expert analyst that is observing a conversation that has taken place between a customer and a customer support assistant. The customer support assistant works for a digital music store, and has utilized a multi-agent team to answer the customer's request. \n",
    "You are tasked with analyzing the conversation that has taken place between the customer and the customer support assistant, and updating the memory profile associated with the customer. The memory profile may be empty. If it's empty, you should create a new memory profile for the customer.\n",
    "\n",
    "You specifically care about saving any music interest the customer has shared about themselves, particularly their music preferences to their memory profile.\n",
    "\n",
    "To help you with this task, I have attached the conversation that has taken place between the customer and the customer support assistant below, as well as the existing memory profile associated with the customer that you should either update or create. \n",
    "\n",
    "The customer's memory profile should have the following fields:\n",
    "- customer_id: the customer ID of the customer\n",
    "- music_preferences: the music preferences of the customer\n",
    "\n",
    "These are the fields you should keep track of and update in the memory profile. If there has been no new information shared by the customer, you should not update the memory profile. It is completely okay if you do not have new information to update the memory profile with. In that case, just leave the values as they are.\n",
    "\n",
    "*IMPORTANT INFORMATION BELOW*\n",
    "\n",
    "The conversation between the customer and the customer support assistant that you should analyze is as follows:\n",
    "{conversation}\n",
    "\n",
    "The existing memory profile associated with the customer that you should either update or create based on the conversation is as follows:\n",
    "{memory_profile}\n",
    "\n",
    "Ensure your response is an object that has the following fields:\n",
    "- customer_id: the customer ID of the customer\n",
    "- music_preferences: the music preferences of the customer\n",
    "\n",
    "For each key in the object, if there is no new information, do not update the value, just keep the value that is already there. If there is new information, update the value. \n",
    "\n",
    "Take a deep breath and think carefully before responding.\n",
    "\"\"\"\n",
    "\n",
    "\n",
    "\n",
    "# Node\n",
    "def create_memory(state: State, config: RunnableConfig, store: BaseStore):\n",
    "    user_id = str(state[\"customer_id\"])\n",
    "    namespace = (\"memory_profile\", user_id)\n",
    "    existing_memory = store.get(namespace, \"user_memory\")\n",
    "    if existing_memory and existing_memory.value:\n",
    "        existing_memory_dict = existing_memory.value\n",
    "        formatted_memory = (\n",
    "            f\"Music Preferences: {', '.join(existing_memory_dict.get('music_preferences', []))}\"\n",
    "        )\n",
    "    else:\n",
    "        formatted_memory = \"\"\n",
    "    formatted_system_message = SystemMessage(content=create_memory_prompt.format(conversation=state[\"messages\"], memory_profile=formatted_memory))\n",
    "    updated_memory = model.with_structured_output(UserProfile).invoke([formatted_system_message])\n",
    "    key = \"user_memory\"\n",
    "    store.put(namespace, key, {\"memory\": updated_memory})"
   ]
  },
  {
   "cell_type": "code",
   "execution_count": 34,
   "metadata": {},
   "outputs": [
    {
     "data": {
      "image/png": "[encoded data removed]",
      "text/plain": [
       "<IPython.core.display.Image object>"
      ]
     },
     "metadata": {},
     "output_type": "display_data"
    }
   ],
   "source": [
    "multi_agent_final = StateGraph(State)\n",
    "multi_agent_final.add_node(\"verify_info\", verify_info)\n",
    "multi_agent_final.add_node(\"human_input\", human_input)\n",
    "multi_agent_final.add_node(\"load_memory\", load_memory)\n",
    "multi_agent_final.add_node(\"supervisor\", supervisor_prebuilt)\n",
    "multi_agent_final.add_node(\"create_memory\", create_memory)\n",
    "\n",
    "multi_agent_final.add_edge(START, \"verify_info\")\n",
    "multi_agent_final.add_conditional_edges(\n",
    "    \"verify_info\",\n",
    "    should_interrupt,\n",
    "    {\n",
    "        \"continue\": \"load_memory\",\n",
    "        \"interrupt\": \"human_input\",\n",
    "    },\n",
    ")\n",
    "multi_agent_final.add_edge(\"human_input\", \"verify_info\")\n",
    "multi_agent_final.add_edge(\"load_memory\", \"supervisor\")\n",
    "multi_agent_final.add_edge(\"supervisor\", \"create_memory\")\n",
    "multi_agent_final.add_edge(\"create_memory\", END)\n",
    "multi_agent_final_graph = multi_agent_final.compile(name=\"multi_agent_verify\", checkpointer=checkpointer, store=in_memory_store)\n",
    "\n",
    "display(Image(multi_agent_final_graph.get_graph().draw_mermaid_png()))"
   ]
  },
  {
   "cell_type": "code",
   "execution_count": 41,
   "metadata": {
    "scrolled": true
   },
   "outputs": [
    {
     "name": "stdout",
     "output_type": "stream",
     "text": [
      "================================\u001b[1m Human Message \u001b[0m=================================\n",
      "\n",
      "My phone number is +55 (12) 3923-5555. How much was my most recent purchase? What albums do you have by the Rolling Stones?\n",
      "================================\u001b[1m System Message \u001b[0m================================\n",
      "\n",
      "Thank you for providing your information! I was able to verify your account with customer id 1.\n",
      "==================================\u001b[1m Ai Message \u001b[0m==================================\n",
      "Name: supervisor\n",
      "Tool Calls:\n",
      "  transfer_to_invoice_information_subagent (call_K8Z13haxukc51dINHI9jHo96)\n",
      " Call ID: call_K8Z13haxukc51dINHI9jHo96\n",
      "  Args:\n",
      "=================================\u001b[1m Tool Message \u001b[0m=================================\n",
      "Name: transfer_to_invoice_information_subagent\n",
      "\n",
      "Successfully transferred to invoice_information_subagent\n",
      "==================================\u001b[1m Ai Message \u001b[0m==================================\n",
      "Name: invoice_information_subagent\n",
      "Tool Calls:\n",
      "  get_invoices_by_customer_sorted_by_date (call_vmkXEPzFXjZjpzYtDI2zbW9B)\n",
      " Call ID: call_vmkXEPzFXjZjpzYtDI2zbW9B\n",
      "  Args:\n",
      "    customer_id: 1\n",
      "=================================\u001b[1m Tool Message \u001b[0m=================================\n",
      "Name: get_invoices_by_customer_sorted_by_date\n",
      "\n",
      "[(382, 1, '2013-08-07 00:00:00', 'Av. Brigadeiro Faria Lima, 2170', 'São José dos Campos', 'SP', 'Brazil', '12227-000', 8.91), (327, 1, '2012-12-07 00:00:00', 'Av. Brigadeiro Faria Lima, 2170', 'São José dos Campos', 'SP', 'Brazil', '12227-000', 13.86), (316, 1, '2012-10-27 00:00:00', 'Av. Brigadeiro Faria Lima, 2170', 'São José dos Campos', 'SP', 'Brazil', '12227-000', 1.98), (195, 1, '2011-05-06 00:00:00', 'Av. Brigadeiro Faria Lima, 2170', 'São José dos Campos', 'SP', 'Brazil', '12227-000', 0.99), (143, 1, '2010-09-15 00:00:00', 'Av. Brigadeiro Faria Lima, 2170', 'São José dos Campos', 'SP', 'Brazil', '12227-000', 5.94), (121, 1, '2010-06-13 00:00:00', 'Av. Brigadeiro Faria Lima, 2170', 'São José dos Campos', 'SP', 'Brazil', '12227-000', 3.96), (98, 1, '2010-03-11 00:00:00', 'Av. Brigadeiro Faria Lima, 2170', 'São José dos Campos', 'SP', 'Brazil', '12227-000', 3.98)]\n",
      "==================================\u001b[1m Ai Message \u001b[0m==================================\n",
      "Name: invoice_information_subagent\n",
      "\n",
      "Your most recent purchase was for $8.91. \n",
      "\n",
      "I don't have any information on album inventories; I can assist you with invoice-related information. Would you like help with something else regarding your invoices?\n",
      "==================================\u001b[1m Ai Message \u001b[0m==================================\n",
      "Name: invoice_information_subagent\n",
      "\n",
      "Transferring back to supervisor\n",
      "Tool Calls:\n",
      "  transfer_back_to_supervisor (0b076606-a63d-4f51-af2c-ee049c59cdb6)\n",
      " Call ID: 0b076606-a63d-4f51-af2c-ee049c59cdb6\n",
      "  Args:\n",
      "=================================\u001b[1m Tool Message \u001b[0m=================================\n",
      "Name: transfer_back_to_supervisor\n",
      "\n",
      "Successfully transferred back to supervisor\n",
      "==================================\u001b[1m Ai Message \u001b[0m==================================\n",
      "Name: supervisor\n",
      "Tool Calls:\n",
      "  transfer_to_music_catalog_subagent (call_flmQmjSnVC0InHxckjnthewi)\n",
      " Call ID: call_flmQmjSnVC0InHxckjnthewi\n",
      "  Args:\n",
      "=================================\u001b[1m Tool Message \u001b[0m=================================\n",
      "Name: transfer_to_music_catalog_subagent\n",
      "\n",
      "Successfully transferred to music_catalog_subagent\n",
      "==================================\u001b[1m Ai Message \u001b[0m==================================\n",
      "Tool Calls:\n",
      "  get_albums_by_artist (call_sXupoKo9qGf6JUWR6rguZXw3)\n",
      " Call ID: call_sXupoKo9qGf6JUWR6rguZXw3\n",
      "  Args:\n",
      "    artist: Rolling Stones\n",
      "=================================\u001b[1m Tool Message \u001b[0m=================================\n",
      "Name: get_albums_by_artist\n",
      "\n",
      "[{'Title': 'BBC Sessions [Disc 1] [Live]', 'Name': 'Led Zeppelin'}, {'Title': 'Physical Graffiti [Disc 1]', 'Name': 'Led Zeppelin'}, {'Title': 'BBC Sessions [Disc 2] [Live]', 'Name': 'Led Zeppelin'}, {'Title': 'Coda', 'Name': 'Led Zeppelin'}, {'Title': 'Houses Of The Holy', 'Name': 'Led Zeppelin'}, {'Title': 'In Through The Out Door', 'Name': 'Led Zeppelin'}, {'Title': 'IV', 'Name': 'Led Zeppelin'}, {'Title': 'Led Zeppelin I', 'Name': 'Led Zeppelin'}, {'Title': 'Led Zeppelin II', 'Name': 'Led Zeppelin'}, {'Title': 'Led Zeppelin III', 'Name': 'Led Zeppelin'}, {'Title': 'Physical Graffiti [Disc 2]', 'Name': 'Led Zeppelin'}, {'Title': 'Presence', 'Name': 'Led Zeppelin'}, {'Title': 'The Song Remains The Same (Disc 1)', 'Name': 'Led Zeppelin'}, {'Title': 'The Song Remains The Same (Disc 2)', 'Name': 'Led Zeppelin'}, {'Title': 'Appetite for Destruction', 'Name': \"Guns N' Roses\"}, {'Title': 'Use Your Illusion I', 'Name': \"Guns N' Roses\"}, {'Title': 'Use Your Illusion II', 'Name': \"Guns N' Roses\"}, {'Title': 'Dark Side Of The Moon', 'Name': 'Pink Floyd'}, {'Title': 'Hot Rocks, 1964-1971 (Disc 1)', 'Name': 'The Rolling Stones'}, {'Title': 'No Security', 'Name': 'The Rolling Stones'}, {'Title': 'Voodoo Lounge', 'Name': 'The Rolling Stones'}]\n",
      "==================================\u001b[1m Ai Message \u001b[0m==================================\n",
      "\n",
      "We have the following albums by the Rolling Stones in our catalog:\n",
      "\n",
      "• Hot Rocks, 1964-1971 (Disc 1)  \n",
      "• No Security  \n",
      "• Voodoo Lounge\n",
      "\n",
      "Let me know if you need more details about any of these albums or any other music recommendations!\n",
      "==================================\u001b[1m Ai Message \u001b[0m==================================\n",
      "Name: music_catalog_subagent\n",
      "\n",
      "Transferring back to supervisor\n",
      "Tool Calls:\n",
      "  transfer_back_to_supervisor (3e258cf6-344b-4865-a6f9-bd5a9d1af4b0)\n",
      " Call ID: 3e258cf6-344b-4865-a6f9-bd5a9d1af4b0\n",
      "  Args:\n",
      "=================================\u001b[1m Tool Message \u001b[0m=================================\n",
      "Name: transfer_back_to_supervisor\n",
      "\n",
      "Successfully transferred back to supervisor\n",
      "==================================\u001b[1m Ai Message \u001b[0m==================================\n",
      "Name: supervisor\n",
      "\n",
      "Your most recent purchase was for $8.91.\n",
      "\n",
      "Regarding the albums, here are the Rolling Stones albums we currently have in our catalog:\n",
      "• Hot Rocks, 1964-1971 (Disc 1)\n",
      "• No Security\n",
      "• Voodoo Lounge\n",
      "\n",
      "Let me know if you need any additional details or further assistance!\n",
      "================================\u001b[1m Human Message \u001b[0m=================================\n",
      "\n",
      "My phone number is +55 (12) 3923-5555. How much was my most recent purchase? What albums do you have by the Rolling Stones?\n",
      "==================================\u001b[1m Ai Message \u001b[0m==================================\n",
      "Name: supervisor\n",
      "\n",
      "Your most recent purchase was for $8.91.\n",
      "\n",
      "As for the Rolling Stones albums in our catalog, we have:\n",
      "• Hot Rocks, 1964-1971 (Disc 1)\n",
      "• No Security\n",
      "• Voodoo Lounge\n",
      "\n",
      "Let me know if you need any additional details or further assistance!\n"
     ]
    }
   ],
   "source": [
    "question = \"My phone number is +55 (12) 3923-5555. How much was my most recent purchase? What albums do you have by the Rolling Stones?\"\n",
    "thread_4 = {\"configurable\": {\"thread_id\": \"10\"}}\n",
    "\n",
    "result = multi_agent_final_graph.invoke({\"messages\": [HumanMessage(content=question)]}, config = thread_4)\n",
    "for message in result[\"messages\"]:\n",
    "    message.pretty_print()"
   ]
  },
  {
   "cell_type": "markdown",
   "metadata": {},
   "source": [
    "Let's take a look at the memory!"
   ]
  },
  {
   "cell_type": "code",
   "execution_count": 43,
   "metadata": {
    "scrolled": true
   },
   "outputs": [
    {
     "name": "stdout",
     "output_type": "stream",
     "text": [
      "['Rolling Stones']\n"
     ]
    }
   ],
   "source": [
    "user_id = \"1\"\n",
    "namespace = (\"memory_profile\", user_id)\n",
    "memory = in_memory_store.get(namespace, \"user_memory\").value\n",
    "\n",
    "saved_music_preferences = memory.get(\"memory\").music_preferences\n",
    "\n",
    "print(saved_music_preferences)"
   ]
  },
  {
   "cell_type": "code",
   "execution_count": null,
   "metadata": {},
   "outputs": [],
   "source": []
  }
 ],
 "metadata": {
  "kernelspec": {
   "display_name": "Python 3 (ipykernel)",
   "language": "python",
   "name": "python3"
  },
  "language_info": {
   "codemirror_mode": {
    "name": "ipython",
    "version": 3
   },
   "file_extension": ".py",
   "mimetype": "text/x-python",
   "name": "python",
   "nbconvert_exporter": "python",
   "pygments_lexer": "ipython3",
   "version": "3.13.2"
  }
 },
 "nbformat": 4,
 "nbformat_minor": 4
}
