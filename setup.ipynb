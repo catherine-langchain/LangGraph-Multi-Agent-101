{
 "cells": [
  {
   "cell_type": "markdown",
   "metadata": {},
   "source": [
    "# Setup\n",
    "Follow these instructions to get ready for your upcoming session!\n",
    "\n",
    "If you run into issues with setting up the python environment or acquiring the necessary API keys due to any resrictions (ex. corporate policy), contact your LangChain representative and we'll find a work-around!\n",
    "\n",
    "### Create an environment and install dependencies  \n",
    "```\n",
    "$ cd multi-agent-101\n",
    "$ python3 -m venv ar-101-env\n",
    "$ source ar-101-env/bin/activate\n",
    "$ pip install -r requirements.txt\n",
    "```\n",
    "\n",
    "### Running notebooks\n",
    "Make sure the following command works and opens the relevant notebook\n",
    "```\n",
    "$ jupyter notebook\n",
    "```\n",
    "\n",
    "### Set OpenAI API key\n",
    "* If you don't have an OpenAI API key, you can sign up [here](https://openai.com/index/openai-api/).\n",
    "*  Set `OPENAI_API_KEY` in the .env file.\n",
    "\n",
    "### Sign up for LangSmith\n",
    "\n",
    "* Sign up [here](https://docs.smith.langchain.com/) \n",
    "*  Set `LANGSMITH_API_KEY`, `LANGSMITH_TRACING=true` .env file.\n",
    "\n",
    "\n",
    "\n",
    "\n"
   ]
  },
  {
   "cell_type": "code",
   "execution_count": null,
   "metadata": {},
   "outputs": [],
   "source": []
  }
 ],
 "metadata": {
  "kernelspec": {
   "display_name": "Python 3 (ipykernel)",
   "language": "python",
   "name": "python3"
  },
  "language_info": {
   "codemirror_mode": {
    "name": "ipython",
    "version": 3
   },
   "file_extension": ".py",
   "mimetype": "text/x-python",
   "name": "python",
   "nbconvert_exporter": "python",
   "pygments_lexer": "ipython3",
   "version": "3.13.2"
  }
 },
 "nbformat": 4,
 "nbformat_minor": 4
}
